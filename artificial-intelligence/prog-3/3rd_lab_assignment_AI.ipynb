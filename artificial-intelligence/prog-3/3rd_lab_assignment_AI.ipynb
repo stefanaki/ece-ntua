{
  "cells": [
    {
      "cell_type": "markdown",
      "metadata": {
        "id": "K2CYQhbxW9nP"
      },
      "source": [
        "### Μέλη Ομάδας:\n",
        "Ον/μο1:  Οδυσσεύς-Δημήτριος Μπούφαλης\n",
        "\n",
        "Αρ. Μητρώου 1:  el18118\n",
        "\n",
        "Ον/μο2:  Γεώργιος Στεφανάκης\n",
        "\n",
        "Αρ. Μητρώου 2:  el18436"
      ]
    },
    {
      "cell_type": "markdown",
      "metadata": {
        "id": "heT7siZWZjQD"
      },
      "source": [
        "# Τεχνητή Νοημοσύνη: Εργαστηριακή Άσκηση 3 \n",
        "Στην άσκηση αυτή θα υλοποιηθούν διάφοροι (σχετικά απλοί) αλγόριθμοι μηχανικής μάθησης για την αυτόματη αναγνώριση μεταξύ 3 μουσικών είδών απο τα δεδομένα που προσφέρει η υπηρεσία Spotify. Συγκεκριμένα, θα δίνονται δύο σύνολα δεδομένων $$Ζ_{train}=\\{(x_1,y_1),\\dots,(x_n,y_n)\\}$$ $$Z_{test} = \\{(x_j,y_j),\\dots{,(x_k,y_k)}\\}$$ όπου κάθε $x_i\\in{\\mathbb{R}^p}$ είναι ένα διάνυσμα με τα μουσικά χαρακτηριστικά κάθε κομματιού (όπως dancability, acousticness κ.α.) και $y_i$ είναι το είδος του κομματιού - ένας ακέραιος στο $[0,2]$. Σε κάθε περίπτωση καλείστε να σχεδιάσετε έναν ταξινομητή, δηλαδή μια απεικόνιση $$f:\\mathbb{R}^p\\rightarrow{[0,2]}$$"
      ]
    },
    {
      "cell_type": "markdown",
      "metadata": {
        "id": "Rvm0mywsZmit"
      },
      "source": [
        "# 1ο Μέρος: Αξιολόγηση\n",
        "Στο πρώτο μέρος της άσκησης θα υλοποιηθούν συναρτήσεις που θα χρησιμοποιηθούν για την αξιολόγηση των ταξινομητών που θα χρησιμοποιηθούν στα επόμενα μέρη.\n",
        "\n",
        "Παρακάτω σας δίνεται η κλάση Evaluate, η οποία υπολογίζει διάφορες μετρικές με τη μέθοδο get_metrics, εντοπίζει αντικείμενα που ταξινομήθηκαν λάθος και τα εμφανίζει (μέθοδος get_sample_of_wrong), και υπολογίζει τον πίνακα σύγχυσης (confusion matrix) όπου οπτικοποιούνται ανά κατηγορία οι προβλέψεις του ταξινομητή.\n",
        "\n",
        "Για το μέρος αυτό καλείστε να υλοποιήσετε στη μέθοδο my_accuracy τη μετρική accuracy, η οποία ορίζεται ως:\n",
        "$$accuracy = \\frac{\\#σωστών\\_προβλέψεων}{\\#δεδομένων}$$\n",
        "\n"
      ]
    },
    {
      "cell_type": "code",
      "execution_count": null,
      "metadata": {
        "id": "WlTj48uFZhyJ"
      },
      "outputs": [],
      "source": [
        "from sklearn.metrics import confusion_matrix, f1_score, precision_score, recall_score\n",
        "from matplotlib import pyplot as plt\n",
        "import numpy as np\n",
        "import random\n",
        "\n",
        "class Evaluate:\n",
        "    def __init__(self, y_true, y_pred):\n",
        "        self.y_true = y_true\n",
        "        self.y_pred = y_pred\n",
        "        \n",
        "\n",
        "    def my_accuracy(self):\n",
        "      y_true = self.y_true\n",
        "      y_pred = self.y_pred\n",
        "      \n",
        "      ##################\n",
        "      ## Your code below\n",
        "      length_true = len(y_true)\n",
        "      length_pred = len(y_pred)\n",
        "      assert length_true == length_pred\n",
        "      counter = 0\n",
        "      for i in range (length_true):\n",
        "        if y_true[i] == y_pred[i]:\n",
        "          counter = counter + 1\n",
        "      \n",
        "      acc = counter / length_true\n",
        "      ## Your code above\n",
        "      ##################\n",
        "      return acc\n",
        "\n",
        "    def get_metrics(self):\n",
        "        precision = precision_score(self.y_true, self.y_pred, average = \"macro\")\n",
        "        recall = recall_score(self.y_true, self.y_pred, average = \"macro\")\n",
        "        f1 = f1_score(self.y_true, self.y_pred, average = \"macro\")\n",
        "        results = {\"precision\": precision, \"recall\": recall, \"f1\": f1, \"accuracy\": self.my_accuracy()}\n",
        "        return results   \n",
        "    \n",
        "    def confusion_matrix(self):\n",
        "        cm = confusion_matrix(self.y_true, self.y_pred)\n",
        "        return cm\n",
        " \n",
        "\n",
        "    def get_evaluation_report(self):\n",
        "        metrics = self.get_metrics()\n",
        "        for m in metrics:\n",
        "            print(m + ': ' + str(metrics[m]))\n",
        "        cm = self.confusion_matrix()\n",
        "        print(\"Confusion matrix: \")\n",
        "        print(cm)"
      ]
    },
    {
      "cell_type": "markdown",
      "metadata": {
        "id": "3qcSvLy6ZpzB"
      },
      "source": [
        "Παράδειγμα χρήσης της κλάσης. Κανονικά στο x θα υπάρχουν τα δεδομένα από το dataset"
      ]
    },
    {
      "cell_type": "code",
      "execution_count": null,
      "metadata": {
        "id": "S5hRZ9L1ZoNJ",
        "colab": {
          "base_uri": "https://localhost:8080/"
        },
        "outputId": "f3cb95e7-6324-4cd8-acee-83efa7bf04a1"
      },
      "outputs": [
        {
          "output_type": "stream",
          "name": "stdout",
          "text": [
            "precision: 0.75\n",
            "recall: 0.75\n",
            "f1: 0.75\n",
            "accuracy: 0.75\n",
            "Confusion matrix: \n",
            "[[3 1]\n",
            " [1 3]]\n"
          ]
        }
      ],
      "source": [
        "y_true = [1, 0, 1, 0, 0, 1, 1, 0]\n",
        "y_pred = [1, 0, 1, 0, 1, 1, 0, 0]\n",
        "\n",
        "eval = Evaluate(y_true, y_pred)\n",
        "eval.get_evaluation_report()"
      ]
    },
    {
      "cell_type": "markdown",
      "metadata": {
        "id": "h9Sex6aEZtt9"
      },
      "source": [
        "# Dataset\n",
        "\n",
        "To dataset που σας δίνεται περιέχει πληθώρα μουσικών κομματιών για τα οποία έχουν καταγραφεί διάφορα χαρακτηριστικά τους, όπως επίσης και το μουσικό είδος στο οποίο ανήκουν. Στη συγκεκριμένη άσκηση θα δουλέψουμε με ένα υποσύνολο (αριθμητικών) χαρακτηριστικών, τα οποία συνεισφέρουν στον καθορισμό της μουσικής κατηγορίας κάθε κομματιού.  \n",
        "\n",
        "Τα χαρακτηριστικά τα οποία θα μελετήσουμε στην παρούσα άσκηση είναι τα \"acousticness\", \"danceability\", \"energy\", \"instrumentalness\", \"liveness\", \"speechiness\", ενώ οι κατηγορίες στις οποίες καλούμαστε να ταξινομήσουμε τα μουσικά κομμάτια είναι οι \"Electronic\", \"Rock\", και \"Rap\".  \n"
      ]
    },
    {
      "cell_type": "code",
      "execution_count": null,
      "metadata": {
        "id": "RCVa4LWpqraw",
        "colab": {
          "base_uri": "https://localhost:8080/"
        },
        "outputId": "375e6701-0f83-4811-f47a-3cc62a795a09"
      },
      "outputs": [
        {
          "output_type": "stream",
          "name": "stdout",
          "text": [
            "Drive already mounted at /content/drive; to attempt to forcibly remount, call drive.mount(\"/content/drive\", force_remount=True).\n"
          ]
        }
      ],
      "source": [
        "# Σύνδεση του Google Colab με το Google Drive\n",
        "\n",
        "from google.colab import drive\n",
        "drive.mount('/content/drive')"
      ]
    },
    {
      "cell_type": "markdown",
      "source": [
        "Θα χρησιμοποιήσουμε τα DataFrames της βιβλιοθήκης pandas για να χειριστούμε τα δεδομένα μας. Μπορείτε να βρείτε περισσότερες πληροφορίες για τα pandas DataFrames στο αντίστοιχο [documentation](https://pandas.pydata.org/docs/reference/api/pandas.DataFrame.html)."
      ],
      "metadata": {
        "id": "5sKETzTHNgyk"
      }
    },
    {
      "cell_type": "code",
      "execution_count": null,
      "metadata": {
        "id": "YvbVV9isZrwZ"
      },
      "outputs": [],
      "source": [
        "import pandas as pd\n",
        "from tqdm.notebook import tqdm "
      ]
    },
    {
      "cell_type": "code",
      "execution_count": null,
      "metadata": {
        "id": "YKpUJSpWqy-I",
        "colab": {
          "base_uri": "https://localhost:8080/",
          "height": 206
        },
        "outputId": "6fcd1cff-de1c-47ae-c1d0-692cb75d7752"
      },
      "outputs": [
        {
          "output_type": "execute_result",
          "data": {
            "text/html": [
              "\n",
              "  <div id=\"df-26792e44-aead-4b3d-af1e-7091990a87dc\">\n",
              "    <div class=\"colab-df-container\">\n",
              "      <div>\n",
              "<style scoped>\n",
              "    .dataframe tbody tr th:only-of-type {\n",
              "        vertical-align: middle;\n",
              "    }\n",
              "\n",
              "    .dataframe tbody tr th {\n",
              "        vertical-align: top;\n",
              "    }\n",
              "\n",
              "    .dataframe thead th {\n",
              "        text-align: right;\n",
              "    }\n",
              "</style>\n",
              "<table border=\"1\" class=\"dataframe\">\n",
              "  <thead>\n",
              "    <tr style=\"text-align: right;\">\n",
              "      <th></th>\n",
              "      <th>instance_id</th>\n",
              "      <th>artist_name</th>\n",
              "      <th>track_name</th>\n",
              "      <th>popularity</th>\n",
              "      <th>acousticness</th>\n",
              "      <th>danceability</th>\n",
              "      <th>duration_ms</th>\n",
              "      <th>energy</th>\n",
              "      <th>instrumentalness</th>\n",
              "      <th>key</th>\n",
              "      <th>liveness</th>\n",
              "      <th>loudness</th>\n",
              "      <th>mode</th>\n",
              "      <th>speechiness</th>\n",
              "      <th>tempo</th>\n",
              "      <th>obtained_date</th>\n",
              "      <th>valence</th>\n",
              "      <th>music_genre</th>\n",
              "    </tr>\n",
              "  </thead>\n",
              "  <tbody>\n",
              "    <tr>\n",
              "      <th>0</th>\n",
              "      <td>32894.0</td>\n",
              "      <td>Röyksopp</td>\n",
              "      <td>Röyksopp's Night Out</td>\n",
              "      <td>27.0</td>\n",
              "      <td>0.00468</td>\n",
              "      <td>0.652</td>\n",
              "      <td>-1.0</td>\n",
              "      <td>0.941</td>\n",
              "      <td>0.79200</td>\n",
              "      <td>A#</td>\n",
              "      <td>0.115</td>\n",
              "      <td>-5.201</td>\n",
              "      <td>Minor</td>\n",
              "      <td>0.0748</td>\n",
              "      <td>100.889</td>\n",
              "      <td>4-Apr</td>\n",
              "      <td>0.759</td>\n",
              "      <td>Electronic</td>\n",
              "    </tr>\n",
              "    <tr>\n",
              "      <th>1</th>\n",
              "      <td>46652.0</td>\n",
              "      <td>Thievery Corporation</td>\n",
              "      <td>The Shining Path</td>\n",
              "      <td>31.0</td>\n",
              "      <td>0.01270</td>\n",
              "      <td>0.622</td>\n",
              "      <td>218293.0</td>\n",
              "      <td>0.890</td>\n",
              "      <td>0.95000</td>\n",
              "      <td>D</td>\n",
              "      <td>0.124</td>\n",
              "      <td>-7.043</td>\n",
              "      <td>Minor</td>\n",
              "      <td>0.0300</td>\n",
              "      <td>115.002</td>\n",
              "      <td>4-Apr</td>\n",
              "      <td>0.531</td>\n",
              "      <td>Electronic</td>\n",
              "    </tr>\n",
              "    <tr>\n",
              "      <th>2</th>\n",
              "      <td>30097.0</td>\n",
              "      <td>Dillon Francis</td>\n",
              "      <td>Hurricane</td>\n",
              "      <td>28.0</td>\n",
              "      <td>0.00306</td>\n",
              "      <td>0.620</td>\n",
              "      <td>215613.0</td>\n",
              "      <td>0.755</td>\n",
              "      <td>0.01180</td>\n",
              "      <td>G#</td>\n",
              "      <td>0.534</td>\n",
              "      <td>-4.617</td>\n",
              "      <td>Major</td>\n",
              "      <td>0.0345</td>\n",
              "      <td>127.994</td>\n",
              "      <td>4-Apr</td>\n",
              "      <td>0.333</td>\n",
              "      <td>Electronic</td>\n",
              "    </tr>\n",
              "    <tr>\n",
              "      <th>3</th>\n",
              "      <td>62177.0</td>\n",
              "      <td>Dubloadz</td>\n",
              "      <td>Nitro</td>\n",
              "      <td>34.0</td>\n",
              "      <td>0.02540</td>\n",
              "      <td>0.774</td>\n",
              "      <td>166875.0</td>\n",
              "      <td>0.700</td>\n",
              "      <td>0.00253</td>\n",
              "      <td>C#</td>\n",
              "      <td>0.157</td>\n",
              "      <td>-4.498</td>\n",
              "      <td>Major</td>\n",
              "      <td>0.2390</td>\n",
              "      <td>128.014</td>\n",
              "      <td>4-Apr</td>\n",
              "      <td>0.270</td>\n",
              "      <td>Electronic</td>\n",
              "    </tr>\n",
              "    <tr>\n",
              "      <th>4</th>\n",
              "      <td>24907.0</td>\n",
              "      <td>What So Not</td>\n",
              "      <td>Divide &amp; Conquer</td>\n",
              "      <td>32.0</td>\n",
              "      <td>0.00465</td>\n",
              "      <td>0.638</td>\n",
              "      <td>222369.0</td>\n",
              "      <td>0.587</td>\n",
              "      <td>0.90900</td>\n",
              "      <td>F#</td>\n",
              "      <td>0.157</td>\n",
              "      <td>-6.266</td>\n",
              "      <td>Major</td>\n",
              "      <td>0.0413</td>\n",
              "      <td>145.036</td>\n",
              "      <td>4-Apr</td>\n",
              "      <td>0.323</td>\n",
              "      <td>Electronic</td>\n",
              "    </tr>\n",
              "  </tbody>\n",
              "</table>\n",
              "</div>\n",
              "      <button class=\"colab-df-convert\" onclick=\"convertToInteractive('df-26792e44-aead-4b3d-af1e-7091990a87dc')\"\n",
              "              title=\"Convert this dataframe to an interactive table.\"\n",
              "              style=\"display:none;\">\n",
              "        \n",
              "  <svg xmlns=\"http://www.w3.org/2000/svg\" height=\"24px\"viewBox=\"0 0 24 24\"\n",
              "       width=\"24px\">\n",
              "    <path d=\"M0 0h24v24H0V0z\" fill=\"none\"/>\n",
              "    <path d=\"M18.56 5.44l.94 2.06.94-2.06 2.06-.94-2.06-.94-.94-2.06-.94 2.06-2.06.94zm-11 1L8.5 8.5l.94-2.06 2.06-.94-2.06-.94L8.5 2.5l-.94 2.06-2.06.94zm10 10l.94 2.06.94-2.06 2.06-.94-2.06-.94-.94-2.06-.94 2.06-2.06.94z\"/><path d=\"M17.41 7.96l-1.37-1.37c-.4-.4-.92-.59-1.43-.59-.52 0-1.04.2-1.43.59L10.3 9.45l-7.72 7.72c-.78.78-.78 2.05 0 2.83L4 21.41c.39.39.9.59 1.41.59.51 0 1.02-.2 1.41-.59l7.78-7.78 2.81-2.81c.8-.78.8-2.07 0-2.86zM5.41 20L4 18.59l7.72-7.72 1.47 1.35L5.41 20z\"/>\n",
              "  </svg>\n",
              "      </button>\n",
              "      \n",
              "  <style>\n",
              "    .colab-df-container {\n",
              "      display:flex;\n",
              "      flex-wrap:wrap;\n",
              "      gap: 12px;\n",
              "    }\n",
              "\n",
              "    .colab-df-convert {\n",
              "      background-color: #E8F0FE;\n",
              "      border: none;\n",
              "      border-radius: 50%;\n",
              "      cursor: pointer;\n",
              "      display: none;\n",
              "      fill: #1967D2;\n",
              "      height: 32px;\n",
              "      padding: 0 0 0 0;\n",
              "      width: 32px;\n",
              "    }\n",
              "\n",
              "    .colab-df-convert:hover {\n",
              "      background-color: #E2EBFA;\n",
              "      box-shadow: 0px 1px 2px rgba(60, 64, 67, 0.3), 0px 1px 3px 1px rgba(60, 64, 67, 0.15);\n",
              "      fill: #174EA6;\n",
              "    }\n",
              "\n",
              "    [theme=dark] .colab-df-convert {\n",
              "      background-color: #3B4455;\n",
              "      fill: #D2E3FC;\n",
              "    }\n",
              "\n",
              "    [theme=dark] .colab-df-convert:hover {\n",
              "      background-color: #434B5C;\n",
              "      box-shadow: 0px 1px 3px 1px rgba(0, 0, 0, 0.15);\n",
              "      filter: drop-shadow(0px 1px 2px rgba(0, 0, 0, 0.3));\n",
              "      fill: #FFFFFF;\n",
              "    }\n",
              "  </style>\n",
              "\n",
              "      <script>\n",
              "        const buttonEl =\n",
              "          document.querySelector('#df-26792e44-aead-4b3d-af1e-7091990a87dc button.colab-df-convert');\n",
              "        buttonEl.style.display =\n",
              "          google.colab.kernel.accessAllowed ? 'block' : 'none';\n",
              "\n",
              "        async function convertToInteractive(key) {\n",
              "          const element = document.querySelector('#df-26792e44-aead-4b3d-af1e-7091990a87dc');\n",
              "          const dataTable =\n",
              "            await google.colab.kernel.invokeFunction('convertToInteractive',\n",
              "                                                     [key], {});\n",
              "          if (!dataTable) return;\n",
              "\n",
              "          const docLinkHtml = 'Like what you see? Visit the ' +\n",
              "            '<a target=\"_blank\" href=https://colab.research.google.com/notebooks/data_table.ipynb>data table notebook</a>'\n",
              "            + ' to learn more about interactive tables.';\n",
              "          element.innerHTML = '';\n",
              "          dataTable['output_type'] = 'display_data';\n",
              "          await google.colab.output.renderOutput(dataTable, element);\n",
              "          const docLink = document.createElement('div');\n",
              "          docLink.innerHTML = docLinkHtml;\n",
              "          element.appendChild(docLink);\n",
              "        }\n",
              "      </script>\n",
              "    </div>\n",
              "  </div>\n",
              "  "
            ],
            "text/plain": [
              "   instance_id           artist_name  ... valence  music_genre\n",
              "0      32894.0              Röyksopp  ...   0.759   Electronic\n",
              "1      46652.0  Thievery Corporation  ...   0.531   Electronic\n",
              "2      30097.0        Dillon Francis  ...   0.333   Electronic\n",
              "3      62177.0              Dubloadz  ...   0.270   Electronic\n",
              "4      24907.0           What So Not  ...   0.323   Electronic\n",
              "\n",
              "[5 rows x 18 columns]"
            ]
          },
          "metadata": {},
          "execution_count": 220
        }
      ],
      "source": [
        "# read data in the form of pandas DataFrame\n",
        "data = pd.read_csv(\"/content/drive/MyDrive/ai-lab-3/music_df_processed.csv\")\n",
        "\n",
        "# print the first 5 values of the DataFrame using .head() command\n",
        "data.head()"
      ]
    },
    {
      "cell_type": "code",
      "source": [
        "# What can we see here?\n",
        "data.describe()"
      ],
      "metadata": {
        "id": "1mjeVnUCPVkR",
        "colab": {
          "base_uri": "https://localhost:8080/",
          "height": 300
        },
        "outputId": "c1faa649-46ea-4a15-a3b3-7272d3b9bee8"
      },
      "execution_count": null,
      "outputs": [
        {
          "output_type": "execute_result",
          "data": {
            "text/html": [
              "\n",
              "  <div id=\"df-f4ebfdb7-c341-4c5d-aebb-065073d72150\">\n",
              "    <div class=\"colab-df-container\">\n",
              "      <div>\n",
              "<style scoped>\n",
              "    .dataframe tbody tr th:only-of-type {\n",
              "        vertical-align: middle;\n",
              "    }\n",
              "\n",
              "    .dataframe tbody tr th {\n",
              "        vertical-align: top;\n",
              "    }\n",
              "\n",
              "    .dataframe thead th {\n",
              "        text-align: right;\n",
              "    }\n",
              "</style>\n",
              "<table border=\"1\" class=\"dataframe\">\n",
              "  <thead>\n",
              "    <tr style=\"text-align: right;\">\n",
              "      <th></th>\n",
              "      <th>instance_id</th>\n",
              "      <th>popularity</th>\n",
              "      <th>acousticness</th>\n",
              "      <th>danceability</th>\n",
              "      <th>duration_ms</th>\n",
              "      <th>energy</th>\n",
              "      <th>instrumentalness</th>\n",
              "      <th>liveness</th>\n",
              "      <th>loudness</th>\n",
              "      <th>speechiness</th>\n",
              "      <th>tempo</th>\n",
              "      <th>valence</th>\n",
              "    </tr>\n",
              "  </thead>\n",
              "  <tbody>\n",
              "    <tr>\n",
              "      <th>count</th>\n",
              "      <td>45020.000000</td>\n",
              "      <td>45020.000000</td>\n",
              "      <td>45020.000000</td>\n",
              "      <td>45020.000000</td>\n",
              "      <td>4.502000e+04</td>\n",
              "      <td>45020.000000</td>\n",
              "      <td>45020.000000</td>\n",
              "      <td>45020.000000</td>\n",
              "      <td>45020.000000</td>\n",
              "      <td>45020.000000</td>\n",
              "      <td>45020.000000</td>\n",
              "      <td>45020.000000</td>\n",
              "    </tr>\n",
              "    <tr>\n",
              "      <th>mean</th>\n",
              "      <td>55884.691892</td>\n",
              "      <td>44.263327</td>\n",
              "      <td>0.306596</td>\n",
              "      <td>0.558532</td>\n",
              "      <td>2.211695e+05</td>\n",
              "      <td>0.599553</td>\n",
              "      <td>0.181843</td>\n",
              "      <td>0.193951</td>\n",
              "      <td>-9.137016</td>\n",
              "      <td>0.093783</td>\n",
              "      <td>119.952961</td>\n",
              "      <td>0.456394</td>\n",
              "    </tr>\n",
              "    <tr>\n",
              "      <th>std</th>\n",
              "      <td>20728.197040</td>\n",
              "      <td>15.553972</td>\n",
              "      <td>0.341391</td>\n",
              "      <td>0.178858</td>\n",
              "      <td>1.276884e+05</td>\n",
              "      <td>0.264510</td>\n",
              "      <td>0.325847</td>\n",
              "      <td>0.161715</td>\n",
              "      <td>6.156400</td>\n",
              "      <td>0.101469</td>\n",
              "      <td>30.641701</td>\n",
              "      <td>0.247161</td>\n",
              "    </tr>\n",
              "    <tr>\n",
              "      <th>min</th>\n",
              "      <td>20002.000000</td>\n",
              "      <td>0.000000</td>\n",
              "      <td>0.000000</td>\n",
              "      <td>0.059600</td>\n",
              "      <td>-1.000000e+00</td>\n",
              "      <td>0.000792</td>\n",
              "      <td>0.000000</td>\n",
              "      <td>0.009670</td>\n",
              "      <td>-47.046000</td>\n",
              "      <td>0.022300</td>\n",
              "      <td>34.347000</td>\n",
              "      <td>0.000000</td>\n",
              "    </tr>\n",
              "    <tr>\n",
              "      <th>25%</th>\n",
              "      <td>38000.750000</td>\n",
              "      <td>34.000000</td>\n",
              "      <td>0.020100</td>\n",
              "      <td>0.442000</td>\n",
              "      <td>1.747230e+05</td>\n",
              "      <td>0.432000</td>\n",
              "      <td>0.000000</td>\n",
              "      <td>0.096900</td>\n",
              "      <td>-10.860000</td>\n",
              "      <td>0.036100</td>\n",
              "      <td>94.941500</td>\n",
              "      <td>0.257000</td>\n",
              "    </tr>\n",
              "    <tr>\n",
              "      <th>50%</th>\n",
              "      <td>55857.500000</td>\n",
              "      <td>45.000000</td>\n",
              "      <td>0.145000</td>\n",
              "      <td>0.568000</td>\n",
              "      <td>2.194385e+05</td>\n",
              "      <td>0.642000</td>\n",
              "      <td>0.000159</td>\n",
              "      <td>0.126000</td>\n",
              "      <td>-7.284000</td>\n",
              "      <td>0.048900</td>\n",
              "      <td>119.879000</td>\n",
              "      <td>0.448000</td>\n",
              "    </tr>\n",
              "    <tr>\n",
              "      <th>75%</th>\n",
              "      <td>73856.500000</td>\n",
              "      <td>56.000000</td>\n",
              "      <td>0.551000</td>\n",
              "      <td>0.687000</td>\n",
              "      <td>2.686400e+05</td>\n",
              "      <td>0.815250</td>\n",
              "      <td>0.154000</td>\n",
              "      <td>0.244000</td>\n",
              "      <td>-5.177000</td>\n",
              "      <td>0.098800</td>\n",
              "      <td>140.471250</td>\n",
              "      <td>0.648000</td>\n",
              "    </tr>\n",
              "    <tr>\n",
              "      <th>max</th>\n",
              "      <td>91759.000000</td>\n",
              "      <td>99.000000</td>\n",
              "      <td>0.996000</td>\n",
              "      <td>0.986000</td>\n",
              "      <td>4.497994e+06</td>\n",
              "      <td>0.999000</td>\n",
              "      <td>0.996000</td>\n",
              "      <td>1.000000</td>\n",
              "      <td>3.744000</td>\n",
              "      <td>0.942000</td>\n",
              "      <td>220.276000</td>\n",
              "      <td>0.992000</td>\n",
              "    </tr>\n",
              "  </tbody>\n",
              "</table>\n",
              "</div>\n",
              "      <button class=\"colab-df-convert\" onclick=\"convertToInteractive('df-f4ebfdb7-c341-4c5d-aebb-065073d72150')\"\n",
              "              title=\"Convert this dataframe to an interactive table.\"\n",
              "              style=\"display:none;\">\n",
              "        \n",
              "  <svg xmlns=\"http://www.w3.org/2000/svg\" height=\"24px\"viewBox=\"0 0 24 24\"\n",
              "       width=\"24px\">\n",
              "    <path d=\"M0 0h24v24H0V0z\" fill=\"none\"/>\n",
              "    <path d=\"M18.56 5.44l.94 2.06.94-2.06 2.06-.94-2.06-.94-.94-2.06-.94 2.06-2.06.94zm-11 1L8.5 8.5l.94-2.06 2.06-.94-2.06-.94L8.5 2.5l-.94 2.06-2.06.94zm10 10l.94 2.06.94-2.06 2.06-.94-2.06-.94-.94-2.06-.94 2.06-2.06.94z\"/><path d=\"M17.41 7.96l-1.37-1.37c-.4-.4-.92-.59-1.43-.59-.52 0-1.04.2-1.43.59L10.3 9.45l-7.72 7.72c-.78.78-.78 2.05 0 2.83L4 21.41c.39.39.9.59 1.41.59.51 0 1.02-.2 1.41-.59l7.78-7.78 2.81-2.81c.8-.78.8-2.07 0-2.86zM5.41 20L4 18.59l7.72-7.72 1.47 1.35L5.41 20z\"/>\n",
              "  </svg>\n",
              "      </button>\n",
              "      \n",
              "  <style>\n",
              "    .colab-df-container {\n",
              "      display:flex;\n",
              "      flex-wrap:wrap;\n",
              "      gap: 12px;\n",
              "    }\n",
              "\n",
              "    .colab-df-convert {\n",
              "      background-color: #E8F0FE;\n",
              "      border: none;\n",
              "      border-radius: 50%;\n",
              "      cursor: pointer;\n",
              "      display: none;\n",
              "      fill: #1967D2;\n",
              "      height: 32px;\n",
              "      padding: 0 0 0 0;\n",
              "      width: 32px;\n",
              "    }\n",
              "\n",
              "    .colab-df-convert:hover {\n",
              "      background-color: #E2EBFA;\n",
              "      box-shadow: 0px 1px 2px rgba(60, 64, 67, 0.3), 0px 1px 3px 1px rgba(60, 64, 67, 0.15);\n",
              "      fill: #174EA6;\n",
              "    }\n",
              "\n",
              "    [theme=dark] .colab-df-convert {\n",
              "      background-color: #3B4455;\n",
              "      fill: #D2E3FC;\n",
              "    }\n",
              "\n",
              "    [theme=dark] .colab-df-convert:hover {\n",
              "      background-color: #434B5C;\n",
              "      box-shadow: 0px 1px 3px 1px rgba(0, 0, 0, 0.15);\n",
              "      filter: drop-shadow(0px 1px 2px rgba(0, 0, 0, 0.3));\n",
              "      fill: #FFFFFF;\n",
              "    }\n",
              "  </style>\n",
              "\n",
              "      <script>\n",
              "        const buttonEl =\n",
              "          document.querySelector('#df-f4ebfdb7-c341-4c5d-aebb-065073d72150 button.colab-df-convert');\n",
              "        buttonEl.style.display =\n",
              "          google.colab.kernel.accessAllowed ? 'block' : 'none';\n",
              "\n",
              "        async function convertToInteractive(key) {\n",
              "          const element = document.querySelector('#df-f4ebfdb7-c341-4c5d-aebb-065073d72150');\n",
              "          const dataTable =\n",
              "            await google.colab.kernel.invokeFunction('convertToInteractive',\n",
              "                                                     [key], {});\n",
              "          if (!dataTable) return;\n",
              "\n",
              "          const docLinkHtml = 'Like what you see? Visit the ' +\n",
              "            '<a target=\"_blank\" href=https://colab.research.google.com/notebooks/data_table.ipynb>data table notebook</a>'\n",
              "            + ' to learn more about interactive tables.';\n",
              "          element.innerHTML = '';\n",
              "          dataTable['output_type'] = 'display_data';\n",
              "          await google.colab.output.renderOutput(dataTable, element);\n",
              "          const docLink = document.createElement('div');\n",
              "          docLink.innerHTML = docLinkHtml;\n",
              "          element.appendChild(docLink);\n",
              "        }\n",
              "      </script>\n",
              "    </div>\n",
              "  </div>\n",
              "  "
            ],
            "text/plain": [
              "        instance_id    popularity  ...         tempo       valence\n",
              "count  45020.000000  45020.000000  ...  45020.000000  45020.000000\n",
              "mean   55884.691892     44.263327  ...    119.952961      0.456394\n",
              "std    20728.197040     15.553972  ...     30.641701      0.247161\n",
              "min    20002.000000      0.000000  ...     34.347000      0.000000\n",
              "25%    38000.750000     34.000000  ...     94.941500      0.257000\n",
              "50%    55857.500000     45.000000  ...    119.879000      0.448000\n",
              "75%    73856.500000     56.000000  ...    140.471250      0.648000\n",
              "max    91759.000000     99.000000  ...    220.276000      0.992000\n",
              "\n",
              "[8 rows x 12 columns]"
            ]
          },
          "metadata": {},
          "execution_count": 221
        }
      ]
    },
    {
      "cell_type": "markdown",
      "source": [
        "## Επιλογή χαρακτηριστικών x και στόχων y.  \n",
        "\n",
        "Για λόγους απλότητας επιλέγουμε τα χαρακτηριστικά (inputs) και τις κατηγορίες-στόχους (genres). Καλείστε να διαχωρίσετε τα δεδομένα σε train/test set. Ας θεωρήσουμε το διαχωρισμό 30% - test set, 70% - train set."
      ],
      "metadata": {
        "id": "0EtEH-M9Ikac"
      }
    },
    {
      "cell_type": "code",
      "execution_count": null,
      "metadata": {
        "id": "tHa_Qq0Efqxb",
        "colab": {
          "base_uri": "https://localhost:8080/"
        },
        "outputId": "eee742a7-a554-48a7-e2da-23c7bfa1c748"
      },
      "outputs": [
        {
          "output_type": "stream",
          "name": "stderr",
          "text": [
            "/usr/local/lib/python3.7/dist-packages/pandas/core/series.py:4582: SettingWithCopyWarning: \n",
            "A value is trying to be set on a copy of a slice from a DataFrame\n",
            "\n",
            "See the caveats in the documentation: https://pandas.pydata.org/pandas-docs/stable/user_guide/indexing.html#returning-a-view-versus-a-copy\n",
            "  method=method,\n"
          ]
        }
      ],
      "source": [
        "from sklearn.model_selection import train_test_split\n",
        "# χαρακτηριστικά\n",
        "inputs = [\"acousticness\", \"danceability\", \"energy\", \"instrumentalness\", \"liveness\", \"speechiness\"]\n",
        "\n",
        "# κατηγορίες-στόχοι\n",
        "output = \"music_genre\"\n",
        "genres = [\"Electronic\", \"Rock\", \"Rap\"]\n",
        "\n",
        "# φιλτράρουμε το DataFrame ώστε να διατηρήσουμε μόνο τις 3 κατηγορίες που μας ενδιαφέρουν.\n",
        "data = data[data[output].isin(genres)]\n",
        "\n",
        "# dictionary to map genre to label id \n",
        "genres_to_id = {genre: i for i, genre in enumerate(genres)}\n",
        "\n",
        "# εδώ πρέπει να διαχωρίσετε τα δεδομένα σε train (70% των δεδομένων)/test set (30% των δεδομένων)\n",
        "# ονομάστε τις μεταβλητές ως εξής:\n",
        "# τα χαρακτηριστικά του train set: x_train\n",
        "# τις κατηγορίες-στόχους του train set: y_train\n",
        "# τα χαρακτηριστικά του test set: x_test\n",
        "# τις κατηγορίες-στόχους του test set: y_test\n",
        "x_test, y_test, x_train, y_train = [], [], [], []\n",
        "##################\n",
        "## Your code below\n",
        "X = pd.DataFrame() \n",
        "y = pd.DataFrame() \n",
        "data[output].replace(genres_to_id, inplace=True)\n",
        "y = data.loc[:,output]\n",
        "X = data.loc[:,inputs]\n",
        "x_train, x_test, y_train, y_test = train_test_split(X, y, test_size=0.3, random_state=42)\n",
        "\n",
        "\n",
        "\n",
        "\n",
        "## Your code above\n",
        "##################"
      ]
    },
    {
      "cell_type": "markdown",
      "source": [
        "## Μορφή των δεδομένων  \n",
        "\n",
        "Βεβαιωθείτε ότι τα δεδομένα σας έχουν τη σωστή μορφή εκτυπώνοντας τον αριθμό γραμμών και στηλών για τα x_test, y_test, x_train, y_train."
      ],
      "metadata": {
        "id": "hhte3iixLg8C"
      }
    },
    {
      "cell_type": "code",
      "execution_count": null,
      "metadata": {
        "id": "FhDzmllUZvyp",
        "colab": {
          "base_uri": "https://localhost:8080/"
        },
        "outputId": "ddb6314c-d395-4f7e-9ca0-7deec0ba35a4"
      },
      "outputs": [
        {
          "output_type": "stream",
          "name": "stdout",
          "text": [
            "x_train shape:  (9471, 6)\n",
            "y_train shape:  (9471,)\n",
            "x_test shape:  (4060, 6)\n",
            "y_test shape:  (4060,)\n"
          ]
        }
      ],
      "source": [
        "# Shape of x_test, y_test, x_train, y_train\n",
        "\n",
        "##################\n",
        "## Your code below\n",
        "shape = x_train.shape\n",
        "print('x_train shape: ',shape)\n",
        "shape = y_train.shape\n",
        "print('y_train shape: ',shape)\n",
        "shape = x_test.shape\n",
        "print('x_test shape: ',shape)\n",
        "shape = y_test.shape\n",
        "print('y_test shape: ',shape)\n",
        "## Your code above\n",
        "##################"
      ]
    },
    {
      "cell_type": "markdown",
      "source": [
        "Αναφορικά με τις τιμές των χαρακτηριστικών, είναι σημαντικό να γνωρίζουμε το εύρος τους, δηλαδή τη μέγιστη και την ελάχιστη τιμή που λαμβάνει το κάθε χαρακτηριστικό. Εξερευνήστε το εύρος του κάθε χαρακτηριστικού στα train και test set. "
      ],
      "metadata": {
        "id": "QAQ3qN1NMVpf"
      }
    },
    {
      "cell_type": "code",
      "source": [
        "# Range of x_train, x_test columns\n",
        "\n",
        "##################\n",
        "## Your code below\n",
        "print(\"Max and Min values for each attribute in x_train set: \")\n",
        "x_train.describe().loc[['min','max']]\n",
        "\n",
        "## Your code above\n",
        "##################"
      ],
      "metadata": {
        "id": "twobPa_DMxI2",
        "colab": {
          "base_uri": "https://localhost:8080/",
          "height": 131
        },
        "outputId": "e84b5cf7-f7ec-4835-904c-336c8645adbd"
      },
      "execution_count": null,
      "outputs": [
        {
          "output_type": "stream",
          "name": "stdout",
          "text": [
            "Max and Min values for each attribute in x_train set: \n"
          ]
        },
        {
          "output_type": "execute_result",
          "data": {
            "text/html": [
              "\n",
              "  <div id=\"df-53a85d53-917a-4249-a5e7-9b582371761c\">\n",
              "    <div class=\"colab-df-container\">\n",
              "      <div>\n",
              "<style scoped>\n",
              "    .dataframe tbody tr th:only-of-type {\n",
              "        vertical-align: middle;\n",
              "    }\n",
              "\n",
              "    .dataframe tbody tr th {\n",
              "        vertical-align: top;\n",
              "    }\n",
              "\n",
              "    .dataframe thead th {\n",
              "        text-align: right;\n",
              "    }\n",
              "</style>\n",
              "<table border=\"1\" class=\"dataframe\">\n",
              "  <thead>\n",
              "    <tr style=\"text-align: right;\">\n",
              "      <th></th>\n",
              "      <th>acousticness</th>\n",
              "      <th>danceability</th>\n",
              "      <th>energy</th>\n",
              "      <th>instrumentalness</th>\n",
              "      <th>liveness</th>\n",
              "      <th>speechiness</th>\n",
              "    </tr>\n",
              "  </thead>\n",
              "  <tbody>\n",
              "    <tr>\n",
              "      <th>min</th>\n",
              "      <td>0.000001</td>\n",
              "      <td>0.0645</td>\n",
              "      <td>0.0211</td>\n",
              "      <td>0.000</td>\n",
              "      <td>0.0173</td>\n",
              "      <td>0.0224</td>\n",
              "    </tr>\n",
              "    <tr>\n",
              "      <th>max</th>\n",
              "      <td>0.994000</td>\n",
              "      <td>0.9770</td>\n",
              "      <td>0.9980</td>\n",
              "      <td>0.974</td>\n",
              "      <td>0.9890</td>\n",
              "      <td>0.9220</td>\n",
              "    </tr>\n",
              "  </tbody>\n",
              "</table>\n",
              "</div>\n",
              "      <button class=\"colab-df-convert\" onclick=\"convertToInteractive('df-53a85d53-917a-4249-a5e7-9b582371761c')\"\n",
              "              title=\"Convert this dataframe to an interactive table.\"\n",
              "              style=\"display:none;\">\n",
              "        \n",
              "  <svg xmlns=\"http://www.w3.org/2000/svg\" height=\"24px\"viewBox=\"0 0 24 24\"\n",
              "       width=\"24px\">\n",
              "    <path d=\"M0 0h24v24H0V0z\" fill=\"none\"/>\n",
              "    <path d=\"M18.56 5.44l.94 2.06.94-2.06 2.06-.94-2.06-.94-.94-2.06-.94 2.06-2.06.94zm-11 1L8.5 8.5l.94-2.06 2.06-.94-2.06-.94L8.5 2.5l-.94 2.06-2.06.94zm10 10l.94 2.06.94-2.06 2.06-.94-2.06-.94-.94-2.06-.94 2.06-2.06.94z\"/><path d=\"M17.41 7.96l-1.37-1.37c-.4-.4-.92-.59-1.43-.59-.52 0-1.04.2-1.43.59L10.3 9.45l-7.72 7.72c-.78.78-.78 2.05 0 2.83L4 21.41c.39.39.9.59 1.41.59.51 0 1.02-.2 1.41-.59l7.78-7.78 2.81-2.81c.8-.78.8-2.07 0-2.86zM5.41 20L4 18.59l7.72-7.72 1.47 1.35L5.41 20z\"/>\n",
              "  </svg>\n",
              "      </button>\n",
              "      \n",
              "  <style>\n",
              "    .colab-df-container {\n",
              "      display:flex;\n",
              "      flex-wrap:wrap;\n",
              "      gap: 12px;\n",
              "    }\n",
              "\n",
              "    .colab-df-convert {\n",
              "      background-color: #E8F0FE;\n",
              "      border: none;\n",
              "      border-radius: 50%;\n",
              "      cursor: pointer;\n",
              "      display: none;\n",
              "      fill: #1967D2;\n",
              "      height: 32px;\n",
              "      padding: 0 0 0 0;\n",
              "      width: 32px;\n",
              "    }\n",
              "\n",
              "    .colab-df-convert:hover {\n",
              "      background-color: #E2EBFA;\n",
              "      box-shadow: 0px 1px 2px rgba(60, 64, 67, 0.3), 0px 1px 3px 1px rgba(60, 64, 67, 0.15);\n",
              "      fill: #174EA6;\n",
              "    }\n",
              "\n",
              "    [theme=dark] .colab-df-convert {\n",
              "      background-color: #3B4455;\n",
              "      fill: #D2E3FC;\n",
              "    }\n",
              "\n",
              "    [theme=dark] .colab-df-convert:hover {\n",
              "      background-color: #434B5C;\n",
              "      box-shadow: 0px 1px 3px 1px rgba(0, 0, 0, 0.15);\n",
              "      filter: drop-shadow(0px 1px 2px rgba(0, 0, 0, 0.3));\n",
              "      fill: #FFFFFF;\n",
              "    }\n",
              "  </style>\n",
              "\n",
              "      <script>\n",
              "        const buttonEl =\n",
              "          document.querySelector('#df-53a85d53-917a-4249-a5e7-9b582371761c button.colab-df-convert');\n",
              "        buttonEl.style.display =\n",
              "          google.colab.kernel.accessAllowed ? 'block' : 'none';\n",
              "\n",
              "        async function convertToInteractive(key) {\n",
              "          const element = document.querySelector('#df-53a85d53-917a-4249-a5e7-9b582371761c');\n",
              "          const dataTable =\n",
              "            await google.colab.kernel.invokeFunction('convertToInteractive',\n",
              "                                                     [key], {});\n",
              "          if (!dataTable) return;\n",
              "\n",
              "          const docLinkHtml = 'Like what you see? Visit the ' +\n",
              "            '<a target=\"_blank\" href=https://colab.research.google.com/notebooks/data_table.ipynb>data table notebook</a>'\n",
              "            + ' to learn more about interactive tables.';\n",
              "          element.innerHTML = '';\n",
              "          dataTable['output_type'] = 'display_data';\n",
              "          await google.colab.output.renderOutput(dataTable, element);\n",
              "          const docLink = document.createElement('div');\n",
              "          docLink.innerHTML = docLinkHtml;\n",
              "          element.appendChild(docLink);\n",
              "        }\n",
              "      </script>\n",
              "    </div>\n",
              "  </div>\n",
              "  "
            ],
            "text/plain": [
              "     acousticness  danceability  ...  liveness  speechiness\n",
              "min      0.000001        0.0645  ...    0.0173       0.0224\n",
              "max      0.994000        0.9770  ...    0.9890       0.9220\n",
              "\n",
              "[2 rows x 6 columns]"
            ]
          },
          "metadata": {},
          "execution_count": 224
        }
      ]
    },
    {
      "cell_type": "code",
      "source": [
        "print(\"Max and Min values for each attribute in x_test set: \")\n",
        "x_test.describe().loc[['min','max']]"
      ],
      "metadata": {
        "colab": {
          "base_uri": "https://localhost:8080/",
          "height": 131
        },
        "id": "Xh8uMY4DXDfR",
        "outputId": "f83e02b4-f2d1-495c-9b49-153f07e38d3e"
      },
      "execution_count": null,
      "outputs": [
        {
          "output_type": "stream",
          "name": "stdout",
          "text": [
            "Max and Min values for each attribute in x_test set: \n"
          ]
        },
        {
          "output_type": "execute_result",
          "data": {
            "text/html": [
              "\n",
              "  <div id=\"df-c1d769ba-0712-4546-8530-e4dda5d6ff23\">\n",
              "    <div class=\"colab-df-container\">\n",
              "      <div>\n",
              "<style scoped>\n",
              "    .dataframe tbody tr th:only-of-type {\n",
              "        vertical-align: middle;\n",
              "    }\n",
              "\n",
              "    .dataframe tbody tr th {\n",
              "        vertical-align: top;\n",
              "    }\n",
              "\n",
              "    .dataframe thead th {\n",
              "        text-align: right;\n",
              "    }\n",
              "</style>\n",
              "<table border=\"1\" class=\"dataframe\">\n",
              "  <thead>\n",
              "    <tr style=\"text-align: right;\">\n",
              "      <th></th>\n",
              "      <th>acousticness</th>\n",
              "      <th>danceability</th>\n",
              "      <th>energy</th>\n",
              "      <th>instrumentalness</th>\n",
              "      <th>liveness</th>\n",
              "      <th>speechiness</th>\n",
              "    </tr>\n",
              "  </thead>\n",
              "  <tbody>\n",
              "    <tr>\n",
              "      <th>min</th>\n",
              "      <td>0.000003</td>\n",
              "      <td>0.106</td>\n",
              "      <td>0.00259</td>\n",
              "      <td>0.000</td>\n",
              "      <td>0.0209</td>\n",
              "      <td>0.0226</td>\n",
              "    </tr>\n",
              "    <tr>\n",
              "      <th>max</th>\n",
              "      <td>0.994000</td>\n",
              "      <td>0.968</td>\n",
              "      <td>0.99900</td>\n",
              "      <td>0.986</td>\n",
              "      <td>0.9910</td>\n",
              "      <td>0.7950</td>\n",
              "    </tr>\n",
              "  </tbody>\n",
              "</table>\n",
              "</div>\n",
              "      <button class=\"colab-df-convert\" onclick=\"convertToInteractive('df-c1d769ba-0712-4546-8530-e4dda5d6ff23')\"\n",
              "              title=\"Convert this dataframe to an interactive table.\"\n",
              "              style=\"display:none;\">\n",
              "        \n",
              "  <svg xmlns=\"http://www.w3.org/2000/svg\" height=\"24px\"viewBox=\"0 0 24 24\"\n",
              "       width=\"24px\">\n",
              "    <path d=\"M0 0h24v24H0V0z\" fill=\"none\"/>\n",
              "    <path d=\"M18.56 5.44l.94 2.06.94-2.06 2.06-.94-2.06-.94-.94-2.06-.94 2.06-2.06.94zm-11 1L8.5 8.5l.94-2.06 2.06-.94-2.06-.94L8.5 2.5l-.94 2.06-2.06.94zm10 10l.94 2.06.94-2.06 2.06-.94-2.06-.94-.94-2.06-.94 2.06-2.06.94z\"/><path d=\"M17.41 7.96l-1.37-1.37c-.4-.4-.92-.59-1.43-.59-.52 0-1.04.2-1.43.59L10.3 9.45l-7.72 7.72c-.78.78-.78 2.05 0 2.83L4 21.41c.39.39.9.59 1.41.59.51 0 1.02-.2 1.41-.59l7.78-7.78 2.81-2.81c.8-.78.8-2.07 0-2.86zM5.41 20L4 18.59l7.72-7.72 1.47 1.35L5.41 20z\"/>\n",
              "  </svg>\n",
              "      </button>\n",
              "      \n",
              "  <style>\n",
              "    .colab-df-container {\n",
              "      display:flex;\n",
              "      flex-wrap:wrap;\n",
              "      gap: 12px;\n",
              "    }\n",
              "\n",
              "    .colab-df-convert {\n",
              "      background-color: #E8F0FE;\n",
              "      border: none;\n",
              "      border-radius: 50%;\n",
              "      cursor: pointer;\n",
              "      display: none;\n",
              "      fill: #1967D2;\n",
              "      height: 32px;\n",
              "      padding: 0 0 0 0;\n",
              "      width: 32px;\n",
              "    }\n",
              "\n",
              "    .colab-df-convert:hover {\n",
              "      background-color: #E2EBFA;\n",
              "      box-shadow: 0px 1px 2px rgba(60, 64, 67, 0.3), 0px 1px 3px 1px rgba(60, 64, 67, 0.15);\n",
              "      fill: #174EA6;\n",
              "    }\n",
              "\n",
              "    [theme=dark] .colab-df-convert {\n",
              "      background-color: #3B4455;\n",
              "      fill: #D2E3FC;\n",
              "    }\n",
              "\n",
              "    [theme=dark] .colab-df-convert:hover {\n",
              "      background-color: #434B5C;\n",
              "      box-shadow: 0px 1px 3px 1px rgba(0, 0, 0, 0.15);\n",
              "      filter: drop-shadow(0px 1px 2px rgba(0, 0, 0, 0.3));\n",
              "      fill: #FFFFFF;\n",
              "    }\n",
              "  </style>\n",
              "\n",
              "      <script>\n",
              "        const buttonEl =\n",
              "          document.querySelector('#df-c1d769ba-0712-4546-8530-e4dda5d6ff23 button.colab-df-convert');\n",
              "        buttonEl.style.display =\n",
              "          google.colab.kernel.accessAllowed ? 'block' : 'none';\n",
              "\n",
              "        async function convertToInteractive(key) {\n",
              "          const element = document.querySelector('#df-c1d769ba-0712-4546-8530-e4dda5d6ff23');\n",
              "          const dataTable =\n",
              "            await google.colab.kernel.invokeFunction('convertToInteractive',\n",
              "                                                     [key], {});\n",
              "          if (!dataTable) return;\n",
              "\n",
              "          const docLinkHtml = 'Like what you see? Visit the ' +\n",
              "            '<a target=\"_blank\" href=https://colab.research.google.com/notebooks/data_table.ipynb>data table notebook</a>'\n",
              "            + ' to learn more about interactive tables.';\n",
              "          element.innerHTML = '';\n",
              "          dataTable['output_type'] = 'display_data';\n",
              "          await google.colab.output.renderOutput(dataTable, element);\n",
              "          const docLink = document.createElement('div');\n",
              "          docLink.innerHTML = docLinkHtml;\n",
              "          element.appendChild(docLink);\n",
              "        }\n",
              "      </script>\n",
              "    </div>\n",
              "  </div>\n",
              "  "
            ],
            "text/plain": [
              "     acousticness  danceability  ...  liveness  speechiness\n",
              "min      0.000003         0.106  ...    0.0209       0.0226\n",
              "max      0.994000         0.968  ...    0.9910       0.7950\n",
              "\n",
              "[2 rows x 6 columns]"
            ]
          },
          "metadata": {},
          "execution_count": 225
        }
      ]
    },
    {
      "cell_type": "markdown",
      "source": [
        "Από την παραπάνω ανάλυση προκύπτουν κάποια ερωτήματα σημαντικά για τα επόμενα βήματα:\n",
        "- Έχουν τα χαρακτηριστικά μας περίπου το ίδιο εύρος;\n",
        "\n",
        "- Σε πολλές εφαρμογές είναι σημαντικό τα χαρακτηριστικά να βρίσκονται στο εύρος [0, 1]. Ισχύει αυτό στην περίπτωσή μας; "
      ],
      "metadata": {
        "id": "jZH_VbsMM_TM"
      }
    },
    {
      "cell_type": "markdown",
      "source": [
        "Όπως μπορούμε να δούμε παραπάνω τα χαρακτηριστικά στο train και test set έχουν παρόμοιο εύρος. \n",
        "\n",
        "Οσον αφορά το εαν τα χαρακτηριστικά είναι κανονικοποιημένα στο εύρος [0,1] αυτό φαίνεται επίσης να ισχύει για όλα τα χαρακτηριστικα. "
      ],
      "metadata": {
        "id": "i5l4LqR1LNYR"
      }
    },
    {
      "cell_type": "markdown",
      "metadata": {
        "id": "bYMke4uRZ8Ae"
      },
      "source": [
        "# 2o Μέρος: Υλοποίηση KNN\n",
        "Στο δεύτερο μέρος της άσκησης θα υλοποιήσετε τον αλγόριθμο KNN για ταξινόμηση. Υπενθυμίζεται από τις διαφάνειες το πλάνο σχεδιασμού για τον ταξινομητή k κοντινότερων γειτόνων:\n",
        "- Αποθηκεύουμε όλα τα δεδομένα ($Z_{train}$) στη μνήμη\n",
        "  - Τα δεδομένα μπορούν αποθηκευτούν σε έναν πίνακα $n\\times{p}$ με χρήση του numpy\n",
        "- Συγκρίνουμε την είσοδο με τα δεδομένα και βρίσκουμε τα k κοντινότερα ($k<n$) με βάση κάποια απόσταση.\n",
        "  - Όταν μας δίνεται ένα \"φρέσκο\" δείγμα ως διάνυσμα από χαρακτηριστικά $x_i$ χρειαζόμαστε μια συνάρτηση που να υπολογίζει την απόσταση $d(x_i,x_j)$, όπου $x_j$ είναι το διάνυσμα που αντιστοιχεί στα χαρακτηριστικά ενός δείγματος από τα δεδομένα εκπαίδευσης. Θα πειραματιστείτε με την ευκλείδια απόσταση και την απόσταση συνημιτόνου. Στη συνέχεια ταξινομούνται τα δεδομένα εκπαίδευσης ως προς την απόστασή τους από το $x_i$ και επιλέγονται τα $k$ κοντινότερα\n",
        "- Δίνουμε στην έξοδο την κλάση στην οποία ανήκει η πλειοψηφία των k κοντινότερων δεδομένων.\n",
        "\n",
        "Αφού κατασκευαστεί ο ταξινομητής θα αξιολογήσετε την επίδοσή του στα 100 πρώτα δείγματα του $Z_{test}$ για κάποιες τιμές του k που θα επιλέξετε εσείς, ξεκινώντας από $k=1$.\n",
        "\n",
        "Στην πράξη πολύ σπάνια θα χρειαστεί να υλοποιήσετε έναν αλγόριθμο μηχανικής μάθησης από το μηδέν, αφού υπάρχουν έτοιμες υλοποιήσεις, π.χ. σε πακέτα της python, οι οποίες είναι βελτιστοποιημένες και εύχρηστες. Το τελευταίο ζητούμενο  στο 2ο μέρος είναι να επαναλάβετε το παραπάνω πείραμα με την έτοιμη υλοποίηση του KNN που παρέχει η βιβλιοθήκη sklearn. Καλείστε να συγκρίνετε τα αποτελέσματα και τους χρόνους εκτέλεσης.\n",
        "\n",
        " Σας δίνεται η κλάση KNN η οποία αρχικοποιείται με ένα σύνολο από δεδομένα x, ετικέτες y και το k για τον αλγόριθμο. Καλείστε να συμπληρώσετε τον κώδικα που λείπει στις μεθόδους distance, get_knn, και classify.\n",
        "\n",
        "Η απόσταση συνημιτόνου μεταξύ δύο διανυσμάτων u,v ορίζεται ως: $$d(u,v)= 1 - \\frac{u\\cdot{v}}{||u||_2||v||_2}$$"
      ]
    },
    {
      "cell_type": "code",
      "source": [
        "x_train = x_train.to_numpy()\n",
        "x_test = x_test.to_numpy()\n",
        "y_train = y_train.to_numpy()\n",
        "y_test = y_test.to_numpy()\n"
      ],
      "metadata": {
        "id": "8YYE5QvalUrr"
      },
      "execution_count": null,
      "outputs": []
    },
    {
      "cell_type": "code",
      "execution_count": null,
      "metadata": {
        "id": "EMPfT1jTZ51F"
      },
      "outputs": [],
      "source": [
        "from numpy import linalg\n",
        "class KNN:\n",
        "    def __init__(self, x, y, k, distance = \"euclidian\"):\n",
        "        self.x = x\n",
        "        self.y = y\n",
        "        self.k = k\n",
        "        self.distance = distance\n",
        "        \n",
        "    ## Compute the distance between the two vectors (2 rows of the DataFrame)\n",
        "    # hint: use np.linalg.norm for eucledian\n",
        "    # hint: use equation given above for cosine\n",
        "    def get_distance(self, row1, row2):\n",
        "      \n",
        "      if self.distance=='euclidian':\n",
        "        ##################\n",
        "        ## Your code below\n",
        "        dist = linalg.norm(row1 - row2)\n",
        "        ## Your code above\n",
        "        ##################\n",
        "      elif self.distance=='cosine':\n",
        "        ##################\n",
        "        ## Your code below\n",
        "        dist = 1 - np.inner(row1, row2)/(linalg.norm(row1)*linalg.norm(row2))\n",
        "        ## Your code above\n",
        "        ##################\n",
        "        pass\n",
        "\n",
        "      return dist\n",
        "\n",
        "    ## Given a DataFrame row as a vector, returns indexes of k nearest neighbors\n",
        "    def get_knn(self, row):\n",
        "      distances = list()\n",
        "      x = self.x\n",
        "      k = self.k\n",
        "      ##################\n",
        "      ## Your code below - populate the distances list\n",
        "      # hint: you can use a for loop\n",
        "      for i in x:\n",
        "        distances.append(self.get_distance(row, i)) \n",
        "    \n",
        "      ## Your code above\n",
        "      ##################\n",
        "\n",
        "      # Sort distances, and return the indexes of k first elements\n",
        "      ans_indexes = np.argsort(distances)[:k]\n",
        "      return ans_indexes\n",
        "\n",
        "    ## Given a DataFrame row as a vector, classify it according to KNN\n",
        "    # hint: we have a list of k labels and want to return the most common one\n",
        "    def classify(self, row):\n",
        "      y = self.y\n",
        "      nn_labels =np.array([y[i] for i in self.get_knn(row)])\n",
        "      \n",
        "      ##################\n",
        "      ## Your code below\n",
        "      prediction = np.argmax(np.bincount(nn_labels))\n",
        "      ## Your code above\n",
        "      ###################\n",
        "      return prediction\n",
        "\n",
        "\n",
        "knn = KNN(x_train, y_train, k=5, distance='euclidian')"
      ]
    },
    {
      "cell_type": "markdown",
      "metadata": {
        "id": "B8-o5tn3aH0-"
      },
      "source": [
        "Τώρα που είναι έτοιμος ο ταξινομητής ας δούμε τι προβλέπει σε μεμονωμένα δείγματα."
      ]
    },
    {
      "cell_type": "markdown",
      "metadata": {
        "id": "XCiEi1UUaLzE"
      },
      "source": [
        "## Αξιολόγηση του KNN"
      ]
    },
    {
      "cell_type": "code",
      "execution_count": null,
      "metadata": {
        "id": "tKw0oa1jaJei"
      },
      "outputs": [],
      "source": [
        "preds = [knn.classify(x_test[i]) for i in range(100)]\n",
        "labels = [y_test[i] for i in range(100)]\n"
      ]
    },
    {
      "cell_type": "code",
      "execution_count": null,
      "metadata": {
        "id": "yNVygiKCaNag",
        "colab": {
          "base_uri": "https://localhost:8080/"
        },
        "outputId": "e75197bf-eab4-459e-eca8-cae203f05b93"
      },
      "outputs": [
        {
          "output_type": "stream",
          "name": "stdout",
          "text": [
            "precision: 0.772942455054524\n",
            "recall: 0.7615342911358093\n",
            "f1: 0.7614538239538239\n",
            "accuracy: 0.76\n",
            "Confusion matrix: \n",
            "[[25  8  1]\n",
            " [ 4 25  2]\n",
            " [ 3  6 26]]\n"
          ]
        }
      ],
      "source": [
        "eval = Evaluate(labels, preds)\n",
        "eval.get_evaluation_report()"
      ]
    },
    {
      "cell_type": "markdown",
      "metadata": {
        "id": "V7LP247HaU6m"
      },
      "source": [
        "## Έτοιμος ΚΝΝ classifier\n",
        "\n",
        "Όπως και με τους περισσότερους αλγορίθμους μηχανικής μάθησης, υπάρχουν έτοιμες βελτιστοποιημένες υλοποιήσεις. Παρακάτω δείχνουμε ένα παράδειγμα χρήσης του ταξινομητή ΚΝΝ που παρέχει η βιβλιοθήκη sklearn ([documentation](https://scikit-learn.org/stable/modules/generated/sklearn.neighbors.KNeighborsClassifier.html))."
      ]
    },
    {
      "cell_type": "code",
      "execution_count": null,
      "metadata": {
        "id": "Os0WCL-QaOnr",
        "colab": {
          "base_uri": "https://localhost:8080/"
        },
        "outputId": "f82aee67-ac27-4b8c-d8a8-bb04e6b54bd9"
      },
      "outputs": [
        {
          "output_type": "stream",
          "name": "stdout",
          "text": [
            "precision: 0.772942455054524\n",
            "recall: 0.7615342911358093\n",
            "f1: 0.7614538239538239\n",
            "accuracy: 0.76\n",
            "Confusion matrix: \n",
            "[[25  8  1]\n",
            " [ 4 25  2]\n",
            " [ 3  6 26]]\n"
          ]
        }
      ],
      "source": [
        "from sklearn.neighbors import KNeighborsClassifier\n",
        "\n",
        "k = 5\n",
        "knc = KNeighborsClassifier(n_neighbors = k)\n",
        "knc.fit(x_train, y_train)\n",
        "y_pred = knc.predict(x_test[:100])\n",
        "\n",
        "eval = Evaluate(y_test[:100], y_pred)\n",
        "eval.get_evaluation_report()"
      ]
    },
    {
      "cell_type": "markdown",
      "metadata": {
        "id": "RcUBX2XMaZUd"
      },
      "source": [
        "## Σύγκριση υλοποιήσεων\n",
        "\n",
        "Στα παρακάτω κελιά πειραματιστείτε με τις δύο υλοποιήσεις (τη δική σας και την έτοιμη). Βεβαιωθείτε πως προκύπτουν τα ίδια αποτελέσματα για διάφορες τιμές του k (για ευκλείδια απόσταση) και μετρήστε τους χρόνους εκτέλεσης."
      ]
    },
    {
      "cell_type": "markdown",
      "metadata": {
        "id": "IOmj0ryqW9nY"
      },
      "source": [
        "Για τους χρόνους εκτέλεσης για k = 5 τρέχουμε τα 3 παρακάτω κελιά:"
      ]
    },
    {
      "cell_type": "code",
      "execution_count": null,
      "metadata": {
        "id": "8Yz_Y_cpaWor",
        "colab": {
          "base_uri": "https://localhost:8080/"
        },
        "outputId": "8db7a1d6-7602-4bd1-bb4e-052e903a8038"
      },
      "outputs": [
        {
          "output_type": "stream",
          "name": "stdout",
          "text": [
            "CPU times: user 8.96 s, sys: 968 ms, total: 9.93 s\n",
            "Wall time: 9.12 s\n"
          ]
        }
      ],
      "source": [
        "%%time\n",
        "knn = KNN(x_train, y_train, k = 5, distance = 'euclidian')\n",
        "preds = [knn.classify(x_test[i]) for i in range(100)]"
      ]
    },
    {
      "cell_type": "code",
      "execution_count": null,
      "metadata": {
        "id": "683epgE6W9nY",
        "colab": {
          "base_uri": "https://localhost:8080/"
        },
        "outputId": "28b3c08f-fc3c-4ac1-ec32-a86607df593d"
      },
      "outputs": [
        {
          "output_type": "stream",
          "name": "stdout",
          "text": [
            "CPU times: user 749 ms, sys: 6.31 ms, total: 755 ms\n",
            "Wall time: 758 ms\n"
          ]
        }
      ],
      "source": [
        "%%time\n",
        "knn = KNN(x_train, y_train, k = 5, distance = 'cosine')\n",
        "preds = [knn.classify(x_test[i]) for i in range(5)]"
      ]
    },
    {
      "cell_type": "code",
      "execution_count": null,
      "metadata": {
        "id": "77s6o3ZkabCY",
        "colab": {
          "base_uri": "https://localhost:8080/"
        },
        "outputId": "16c80c90-4068-4233-ce2e-63baa3689c87"
      },
      "outputs": [
        {
          "output_type": "stream",
          "name": "stdout",
          "text": [
            "CPU times: user 18 ms, sys: 121 µs, total: 18.1 ms\n",
            "Wall time: 21.7 ms\n"
          ]
        }
      ],
      "source": [
        "%%time\n",
        "knc = KNeighborsClassifier(n_neighbors = 5)\n",
        "knc.fit(x_train, y_train)\n",
        "y_pred = knc.predict(x_test[:100])"
      ]
    },
    {
      "cell_type": "markdown",
      "metadata": {
        "id": "A6rb5SKKW9nY"
      },
      "source": [
        "Για τους χρόνους εκτέλεσης για k = 50 τρέχουμε τα 3 παρακάτω κελιά:"
      ]
    },
    {
      "cell_type": "code",
      "execution_count": null,
      "metadata": {
        "id": "YvDbD3u7W9nZ",
        "colab": {
          "base_uri": "https://localhost:8080/"
        },
        "outputId": "018c7eb2-5239-427e-dac7-45d700b03430"
      },
      "outputs": [
        {
          "output_type": "stream",
          "name": "stdout",
          "text": [
            "CPU times: user 9.06 s, sys: 988 ms, total: 10.1 s\n",
            "Wall time: 9.21 s\n"
          ]
        }
      ],
      "source": [
        "%%time\n",
        "knn = KNN(x_train, y_train, k = 50, distance = 'euclidian')\n",
        "preds = [knn.classify(x_test[i]) for i in range(100)]"
      ]
    },
    {
      "cell_type": "code",
      "execution_count": null,
      "metadata": {
        "id": "4YpuwMD0W9nZ",
        "colab": {
          "base_uri": "https://localhost:8080/"
        },
        "outputId": "51e825b1-da63-4eb7-8368-ea03e6e5f47b"
      },
      "outputs": [
        {
          "output_type": "stream",
          "name": "stdout",
          "text": [
            "CPU times: user 744 ms, sys: 9.63 ms, total: 754 ms\n",
            "Wall time: 753 ms\n"
          ]
        }
      ],
      "source": [
        "%%time\n",
        "knn = KNN(x_train, y_train, k = 50, distance = 'cosine')\n",
        "preds = [knn.classify(x_test[i]) for i in range(5)]"
      ]
    },
    {
      "cell_type": "code",
      "execution_count": null,
      "metadata": {
        "id": "3h4GOLcNW9nZ",
        "colab": {
          "base_uri": "https://localhost:8080/"
        },
        "outputId": "449cdc3c-1ca2-4589-eaaa-1c8bf5ad3a7a"
      },
      "outputs": [
        {
          "output_type": "stream",
          "name": "stdout",
          "text": [
            "CPU times: user 22.1 ms, sys: 0 ns, total: 22.1 ms\n",
            "Wall time: 22.2 ms\n"
          ]
        }
      ],
      "source": [
        "%%time\n",
        "knc = KNeighborsClassifier(n_neighbors = 50)\n",
        "knc.fit(x_train, y_train)\n",
        "y_pred = knc.predict(x_test[:100])"
      ]
    },
    {
      "cell_type": "code",
      "source": [
        "knn = KNN(x_train, y_train, k=10, distance='euclidian')\n",
        "preds = [knn.classify(x_test[i]) for i in range(100)]\n",
        "labels = [y_test[i] for i in range(100)]\n",
        "eval = Evaluate(labels, preds)\n",
        "eval.get_evaluation_report()"
      ],
      "metadata": {
        "colab": {
          "base_uri": "https://localhost:8080/"
        },
        "id": "Vee2uDFVzYup",
        "outputId": "68ae695a-fc93-4cb5-80f5-31547525af8f"
      },
      "execution_count": null,
      "outputs": [
        {
          "output_type": "stream",
          "name": "stdout",
          "text": [
            "precision: 0.827950918398073\n",
            "recall: 0.8128399746995573\n",
            "f1: 0.8110902681492357\n",
            "accuracy: 0.81\n",
            "Confusion matrix: \n",
            "[[25  7  2]\n",
            " [ 1 28  2]\n",
            " [ 1  6 28]]\n"
          ]
        }
      ]
    },
    {
      "cell_type": "code",
      "source": [
        "knn = KNN(x_train, y_train, k=10, distance='cosine')\n",
        "preds = [knn.classify(x_test[i]) for i in range(100)]\n",
        "labels = [y_test[i] for i in range(100)]\n",
        "eval = Evaluate(labels, preds)\n",
        "eval.get_evaluation_report()"
      ],
      "metadata": {
        "colab": {
          "base_uri": "https://localhost:8080/"
        },
        "id": "B7zWTvJg1L_p",
        "outputId": "44000867-7b2f-458c-cde2-4c689c470e9b"
      },
      "execution_count": null,
      "outputs": [
        {
          "output_type": "stream",
          "name": "stdout",
          "text": [
            "precision: 0.760191637630662\n",
            "recall: 0.7425951025571519\n",
            "f1: 0.7392629082284254\n",
            "accuracy: 0.74\n",
            "Confusion matrix: \n",
            "[[21  8  5]\n",
            " [ 2 26  3]\n",
            " [ 1  7 27]]\n"
          ]
        }
      ]
    },
    {
      "cell_type": "code",
      "source": [
        "from sklearn.neighbors import KNeighborsClassifier\n",
        "\n",
        "k = 10\n",
        "knc = KNeighborsClassifier(n_neighbors = k)\n",
        "knc.fit(x_train, y_train)\n",
        "y_pred = knc.predict(x_test[:100])\n",
        "\n",
        "eval = Evaluate(y_test[:100], y_pred)\n",
        "eval.get_evaluation_report()"
      ],
      "metadata": {
        "colab": {
          "base_uri": "https://localhost:8080/"
        },
        "id": "a49fijgo0II6",
        "outputId": "4bfaa610-9e0c-42a5-d0c4-294feb838c67"
      },
      "execution_count": null,
      "outputs": [
        {
          "output_type": "stream",
          "name": "stdout",
          "text": [
            "precision: 0.827950918398073\n",
            "recall: 0.8128399746995573\n",
            "f1: 0.8110902681492357\n",
            "accuracy: 0.81\n",
            "Confusion matrix: \n",
            "[[25  7  2]\n",
            " [ 1 28  2]\n",
            " [ 1  6 28]]\n"
          ]
        }
      ]
    },
    {
      "cell_type": "code",
      "source": [
        "knn = KNN(x_train, y_train, k=20, distance='euclidian')\n",
        "preds = [knn.classify(x_test[i]) for i in range(100)]\n",
        "labels = [y_test[i] for i in range(100)]\n",
        "eval = Evaluate(labels, preds)\n",
        "eval.get_evaluation_report()"
      ],
      "metadata": {
        "colab": {
          "base_uri": "https://localhost:8080/"
        },
        "id": "Gtvjxze7zZL_",
        "outputId": "0d058695-b74b-4575-a193-0e62e3fb6aa3"
      },
      "execution_count": null,
      "outputs": [
        {
          "output_type": "stream",
          "name": "stdout",
          "text": [
            "precision: 0.7982873181349525\n",
            "recall: 0.7852173127315442\n",
            "f1: 0.7797797797797799\n",
            "accuracy: 0.78\n",
            "Confusion matrix: \n",
            "[[24  7  3]\n",
            " [ 2 29  0]\n",
            " [ 3  7 25]]\n"
          ]
        }
      ]
    },
    {
      "cell_type": "code",
      "source": [
        "knn = KNN(x_train, y_train, k=20, distance='cosine')\n",
        "preds = [knn.classify(x_test[i]) for i in range(100)]\n",
        "labels = [y_test[i] for i in range(100)]\n",
        "eval = Evaluate(labels, preds)\n",
        "eval.get_evaluation_report()"
      ],
      "metadata": {
        "colab": {
          "base_uri": "https://localhost:8080/"
        },
        "id": "PgcOvhQv1SWd",
        "outputId": "fee964b0-af7e-4880-832b-39e740398bfd"
      },
      "execution_count": null,
      "outputs": [
        {
          "output_type": "stream",
          "name": "stdout",
          "text": [
            "precision: 0.7783560340212929\n",
            "recall: 0.7533477907291949\n",
            "f1: 0.7497268435483538\n",
            "accuracy: 0.75\n",
            "Confusion matrix: \n",
            "[[21  9  4]\n",
            " [ 1 27  3]\n",
            " [ 1  7 27]]\n"
          ]
        }
      ]
    },
    {
      "cell_type": "code",
      "source": [
        "from sklearn.neighbors import KNeighborsClassifier\n",
        "\n",
        "k = 20\n",
        "knc = KNeighborsClassifier(n_neighbors = k)\n",
        "knc.fit(x_train, y_train)\n",
        "y_pred = knc.predict(x_test[:100])\n",
        "\n",
        "eval = Evaluate(y_test[:100], y_pred)\n",
        "eval.get_evaluation_report()"
      ],
      "metadata": {
        "colab": {
          "base_uri": "https://localhost:8080/"
        },
        "id": "dGyP0KYk0KmQ",
        "outputId": "3be30b13-1bb2-48c8-c9d7-87faf2fbb7bf"
      },
      "execution_count": null,
      "outputs": [
        {
          "output_type": "stream",
          "name": "stdout",
          "text": [
            "precision: 0.7982873181349525\n",
            "recall: 0.7852173127315442\n",
            "f1: 0.7797797797797799\n",
            "accuracy: 0.78\n",
            "Confusion matrix: \n",
            "[[24  7  3]\n",
            " [ 2 29  0]\n",
            " [ 3  7 25]]\n"
          ]
        }
      ]
    },
    {
      "cell_type": "code",
      "source": [
        "knn = KNN(x_train, y_train, k=40, distance='euclidian')\n",
        "preds = [knn.classify(x_test[i]) for i in range(100)]\n",
        "labels = [y_test[i] for i in range(100)]\n",
        "eval = Evaluate(labels, preds)\n",
        "eval.get_evaluation_report()"
      ],
      "metadata": {
        "colab": {
          "base_uri": "https://localhost:8080/"
        },
        "id": "-rW4YIGJzZfF",
        "outputId": "3122cb1b-f368-476a-bba6-91b4dfa03845"
      },
      "execution_count": null,
      "outputs": [
        {
          "output_type": "stream",
          "name": "stdout",
          "text": [
            "precision: 0.8159445918066607\n",
            "recall: 0.7956898888587695\n",
            "f1: 0.789546783625731\n",
            "accuracy: 0.79\n",
            "Confusion matrix: \n",
            "[[23  8  3]\n",
            " [ 1 30  0]\n",
            " [ 2  7 26]]\n"
          ]
        }
      ]
    },
    {
      "cell_type": "code",
      "source": [
        "knn = KNN(x_train, y_train, k=40, distance='cosine')\n",
        "preds = [knn.classify(x_test[i]) for i in range(100)]\n",
        "labels = [y_test[i] for i in range(100)]\n",
        "eval = Evaluate(labels, preds)\n",
        "eval.get_evaluation_report()"
      ],
      "metadata": {
        "colab": {
          "base_uri": "https://localhost:8080/"
        },
        "id": "10P_7A8z1d87",
        "outputId": "bd417369-22a3-4695-848c-02fdf02d2b6c"
      },
      "execution_count": null,
      "outputs": [
        {
          "output_type": "stream",
          "name": "stdout",
          "text": [
            "precision: 0.7792252510760402\n",
            "recall: 0.761922833649589\n",
            "f1: 0.7598597123283932\n",
            "accuracy: 0.76\n",
            "Confusion matrix: \n",
            "[[22  9  3]\n",
            " [ 2 26  3]\n",
            " [ 1  6 28]]\n"
          ]
        }
      ]
    },
    {
      "cell_type": "code",
      "source": [
        "from sklearn.neighbors import KNeighborsClassifier\n",
        "\n",
        "k = 40\n",
        "knc = KNeighborsClassifier(n_neighbors = k)\n",
        "knc.fit(x_train, y_train)\n",
        "y_pred = knc.predict(x_test[:100])\n",
        "\n",
        "eval = Evaluate(y_test[:100], y_pred)\n",
        "eval.get_evaluation_report()"
      ],
      "metadata": {
        "colab": {
          "base_uri": "https://localhost:8080/"
        },
        "id": "GjFNrBP_0MMB",
        "outputId": "631f7a3e-302e-4090-fa0f-422bbe99e5ed"
      },
      "execution_count": null,
      "outputs": [
        {
          "output_type": "stream",
          "name": "stdout",
          "text": [
            "precision: 0.8159445918066607\n",
            "recall: 0.7956898888587695\n",
            "f1: 0.789546783625731\n",
            "accuracy: 0.79\n",
            "Confusion matrix: \n",
            "[[23  8  3]\n",
            " [ 1 30  0]\n",
            " [ 2  7 26]]\n"
          ]
        }
      ]
    },
    {
      "cell_type": "code",
      "source": [
        "knn = KNN(x_train, y_train, k=80, distance='euclidian')\n",
        "preds = [knn.classify(x_test[i]) for i in range(100)]\n",
        "labels = [y_test[i] for i in range(100)]\n",
        "eval = Evaluate(labels, preds)\n",
        "eval.get_evaluation_report()"
      ],
      "metadata": {
        "colab": {
          "base_uri": "https://localhost:8080/"
        },
        "id": "HqBO7QcNz79A",
        "outputId": "b30fff58-5bec-4411-a1ab-0b4ec0ab8002"
      },
      "execution_count": null,
      "outputs": [
        {
          "output_type": "stream",
          "name": "stdout",
          "text": [
            "precision: 0.8159445918066607\n",
            "recall: 0.7956898888587695\n",
            "f1: 0.789546783625731\n",
            "accuracy: 0.79\n",
            "Confusion matrix: \n",
            "[[23  8  3]\n",
            " [ 1 30  0]\n",
            " [ 2  7 26]]\n"
          ]
        }
      ]
    },
    {
      "cell_type": "code",
      "source": [
        "knn = KNN(x_train, y_train, k=80, distance='cosine')\n",
        "preds = [knn.classify(x_test[i]) for i in range(100)]\n",
        "labels = [y_test[i] for i in range(100)]\n",
        "eval = Evaluate(labels, preds)\n",
        "eval.get_evaluation_report()"
      ],
      "metadata": {
        "colab": {
          "base_uri": "https://localhost:8080/"
        },
        "id": "jbQSXnua1qpD",
        "outputId": "d5cca378-18cc-4aaf-8cdd-69ccf220cbc9"
      },
      "execution_count": null,
      "outputs": [
        {
          "output_type": "stream",
          "name": "stdout",
          "text": [
            "precision: 0.8004126409017713\n",
            "recall: 0.7748531670732809\n",
            "f1: 0.7686567164179104\n",
            "accuracy: 0.77\n",
            "Confusion matrix: \n",
            "[[21 10  3]\n",
            " [ 0 29  2]\n",
            " [ 2  6 27]]\n"
          ]
        }
      ]
    },
    {
      "cell_type": "code",
      "source": [
        "from sklearn.neighbors import KNeighborsClassifier\n",
        "\n",
        "k = 80\n",
        "knc = KNeighborsClassifier(n_neighbors = k)\n",
        "knc.fit(x_train, y_train)\n",
        "y_pred = knc.predict(x_test[:100])\n",
        "\n",
        "eval = Evaluate(y_test[:100], y_pred)\n",
        "eval.get_evaluation_report()"
      ],
      "metadata": {
        "colab": {
          "base_uri": "https://localhost:8080/"
        },
        "id": "Ur04NgEc0Nx4",
        "outputId": "d92e4f0e-fd34-40a4-9fc5-ca6962746573"
      },
      "execution_count": null,
      "outputs": [
        {
          "output_type": "stream",
          "name": "stdout",
          "text": [
            "precision: 0.8159445918066607\n",
            "recall: 0.7956898888587695\n",
            "f1: 0.789546783625731\n",
            "accuracy: 0.79\n",
            "Confusion matrix: \n",
            "[[23  8  3]\n",
            " [ 1 30  0]\n",
            " [ 2  7 26]]\n"
          ]
        }
      ]
    },
    {
      "cell_type": "code",
      "source": [
        "knn = KNN(x_train, y_train, k=100, distance='euclidian')\n",
        "preds = [knn.classify(x_test[i]) for i in range(100)]\n",
        "labels = [y_test[i] for i in range(100)]\n",
        "eval = Evaluate(labels, preds)\n",
        "eval.get_evaluation_report()"
      ],
      "metadata": {
        "colab": {
          "base_uri": "https://localhost:8080/"
        },
        "id": "P-AXz-MK0DiQ",
        "outputId": "baf62852-6106-466d-e701-2f42c92b8d08"
      },
      "execution_count": null,
      "outputs": [
        {
          "output_type": "stream",
          "name": "stdout",
          "text": [
            "precision: 0.8285052032238829\n",
            "recall: 0.8147375079063884\n",
            "f1: 0.8086541086541087\n",
            "accuracy: 0.81\n",
            "Confusion matrix: \n",
            "[[23  8  3]\n",
            " [ 1 30  0]\n",
            " [ 2  5 28]]\n"
          ]
        }
      ]
    },
    {
      "cell_type": "code",
      "source": [
        "knn = KNN(x_train, y_train, k=100, distance='cosine')\n",
        "preds = [knn.classify(x_test[i]) for i in range(100)]\n",
        "labels = [y_test[i] for i in range(100)]\n",
        "eval = Evaluate(labels, preds)\n",
        "eval.get_evaluation_report()"
      ],
      "metadata": {
        "colab": {
          "base_uri": "https://localhost:8080/"
        },
        "id": "ZOFeaxhO1zWs",
        "outputId": "9e8ab402-e403-45f0-df85-06f34b4237c1"
      },
      "execution_count": null,
      "outputs": [
        {
          "output_type": "stream",
          "name": "stdout",
          "text": [
            "precision: 0.8085677749360615\n",
            "recall: 0.7755218216318785\n",
            "f1: 0.7648395619410112\n",
            "accuracy: 0.77\n",
            "Confusion matrix: \n",
            "[[19 10  5]\n",
            " [ 0 30  1]\n",
            " [ 1  6 28]]\n"
          ]
        }
      ]
    },
    {
      "cell_type": "code",
      "source": [
        "from sklearn.neighbors import KNeighborsClassifier\n",
        "\n",
        "k = 100\n",
        "knc = KNeighborsClassifier(n_neighbors = k)\n",
        "knc.fit(x_train, y_train)\n",
        "y_pred = knc.predict(x_test[:100])\n",
        "\n",
        "eval = Evaluate(y_test[:100], y_pred)\n",
        "eval.get_evaluation_report()"
      ],
      "metadata": {
        "colab": {
          "base_uri": "https://localhost:8080/"
        },
        "id": "k18b1t2u0PWq",
        "outputId": "58a76a03-7b80-42f6-f0c6-da6ae272060f"
      },
      "execution_count": null,
      "outputs": [
        {
          "output_type": "stream",
          "name": "stdout",
          "text": [
            "precision: 0.8285052032238829\n",
            "recall: 0.8147375079063884\n",
            "f1: 0.8086541086541087\n",
            "accuracy: 0.81\n",
            "Confusion matrix: \n",
            "[[23  8  3]\n",
            " [ 1 30  0]\n",
            " [ 2  5 28]]\n"
          ]
        }
      ]
    },
    {
      "cell_type": "code",
      "source": [
        "knn = KNN(x_train, y_train, k=5, distance='euclidian')\n",
        "preds = [knn.classify(x_test[i]) for i in range(4060)]\n",
        "labels = [y_test[i] for i in range(4060)]\n",
        "eval = Evaluate(labels, preds)\n",
        "eval.get_evaluation_report()"
      ],
      "metadata": {
        "colab": {
          "base_uri": "https://localhost:8080/"
        },
        "id": "kUXdSxsPDQ5k",
        "outputId": "c1fee6ff-2516-4e81-ea78-e39cc7e5f972"
      },
      "execution_count": null,
      "outputs": [
        {
          "output_type": "stream",
          "name": "stdout",
          "text": [
            "precision: 0.6994198317734129\n",
            "recall: 0.6943808195739392\n",
            "f1: 0.6948739721397573\n",
            "accuracy: 0.6940886699507389\n",
            "Confusion matrix: \n",
            "[[896 309 165]\n",
            " [226 973 139]\n",
            " [133 270 949]]\n"
          ]
        }
      ]
    },
    {
      "cell_type": "code",
      "source": [
        "from sklearn.neighbors import KNeighborsClassifier\n",
        "\n",
        "k = 5\n",
        "knc = KNeighborsClassifier(n_neighbors = k)\n",
        "knc.fit(x_train, y_train)\n",
        "y_pred = knc.predict(x_test[:4060])\n",
        "\n",
        "eval = Evaluate(y_test[:4060], y_pred)\n",
        "eval.get_evaluation_report()"
      ],
      "metadata": {
        "colab": {
          "base_uri": "https://localhost:8080/"
        },
        "id": "C8c4tJ0DEyna",
        "outputId": "3f559631-1656-4c6e-f4c6-ddc6db4a182e"
      },
      "execution_count": null,
      "outputs": [
        {
          "output_type": "stream",
          "name": "stdout",
          "text": [
            "precision: 0.6991501783933273\n",
            "recall: 0.6941316915221206\n",
            "f1: 0.6946342489462957\n",
            "accuracy: 0.6938423645320198\n",
            "Confusion matrix: \n",
            "[[896 309 165]\n",
            " [227 972 139]\n",
            " [133 270 949]]\n"
          ]
        }
      ]
    },
    {
      "cell_type": "markdown",
      "metadata": {
        "id": "bc9ySKoRaek-"
      },
      "source": [
        "## Σχολιασμός\n",
        "Βλέπουμε ότι η υλοποίηση του έτοιμου ταξινομητή KNN είναι πολύ πιο γρήγορη από \n",
        "την δικιά μας. Η διαφορά ωστόσο είναι πιο έντονη κυριώς μεταξύ του δικού μας KNN για ευκλείδια απόσταση όπου ο δικός μας ΚΝΝ είναι σημαντικά πιο αργός. Αντίθετα, ο δικός μας ΚΝΝ με cosine απόσταση είναι αρκετά γρήγορος, της τάξης των ms, όπως και η έτοιμη υλοποίηση η οποία όμως είναι πάλι λίγο πιο γρήγορη.\n",
        "\n",
        "Εκτός αυτών, βλέπουμε ότι όταν αλλάζουμε το Κ από 5 σε 50 ο χρόνος εκπαίδευσης και πρόβλεψης του ταξινομητή μας δεν επηρεάζεται σχεδόν καθόλου. Αυτό είναι κάτι αναμενόμενο καθώς αυτό που είναι υπολογιστικά πιο κοστοβόρο είναι ο υπολογισμός των αποστάσεων μεταξύ των δίαφορων στοιχείων του dataset μας (μουσικά κομμάτια με συγκερκιμένα χαρακτηριστικά). Αυτό δεν επηρεάζεται από την τιμή του Κ. Από εκεί και πέρα το να επιλέξουμε τους Κ κοντινότερους γείτονες είναι μια διαδικασία που απαιτεί κάποιου είδους ταξινόμηση η οποία όμως έχει σημαντικά μικρότερη υπολογιστική πολυπλοκότητα.\n",
        "\n",
        "Επιπλέον παρατηρούμε ότι τόσο ο δικός μας ταξινομητής (για ευκλείδια απόσταση) όσο και ο έτοιμος κάνουν τις ίδιες προβλέψεις κάτι που επιβεβαιώνει και την ορθότητα της υλοποίησης μας.Όταν χρησιμοποιούμε cosine distance βλέπουμε ότι έχουμε μικρή απόκλιση από τα αποτελέσματα της έτοιμης υλοποίησης και της δικής μας με ευκλείδια απόσταση. \n",
        "\n",
        "Γενικά παρατηρούμε ότι όσο αυξάνουμε το Κ το accuracy δεν μεταβάλλεται ιδιαίτερα κάτι το οποίο μπορεί να σημαίνει ότι στα 100 πρώτα κομμάτια του test_set που εξετάζουμε υπάρχουν κάποιες σαφείς ομαδοποιήσεις (clusters) και τα δεδομένα ταξινομούνται πάντα σχεδόν με τον ίδιο τρόπο όσους γείτονες και αν χρησιμοποιήσουμε."
      ]
    },
    {
      "cell_type": "markdown",
      "metadata": {
        "id": "Xe17UwwLag5Y"
      },
      "source": [
        "# 3ο Μέρος: Naive Bayes\n",
        "Στο τρίτο μέρος της άσκησης θα υλοποιήσετε τον αλγόριθμο Naive Bayes. Ας θυμηθούμε από τις διαφάνειες:\n",
        "\n",
        "**Υποθέσεις:**\n",
        "- Τα χαρακτηριστικά είναι boolean αντί για συνεχή, δηλαδή παίρνουν δύο τιμές 0 ή 1. Συνεπώς, χρειάζεται να τροποποιήσουμε τα χαρακτηριστικά του dataset μας.\n",
        "  - Για το συγκεκριμένο πρόβλημα μπορούμε να 'σπάσουμε' τις τιμές κάθε χαρακτηριστικού σε N διαφορετικά bins. Για παράδειγμα, για ένα χαρακτηριστικό που οι τιμές του κυμαίνονται στο [0, 1], για Ν=5, θα έχουμε τα ακόλουθα bins: [0, 0.2), [0.2, 0.4), [0.4, 0.6), [0.6, 0.8), [0.8, 1]. (Γι αυτό το λόγο στα προηγούμενα βήματα αναφέραμε ότι είναι σημαντικό να έχουμε τα χαρακτηριστικά μας στο [0, 1]!)\n",
        "  \n",
        "- Η πιθανότητα ένα στοιχείο με χαρακτηριστικά x να ανήκει στην κλάση i δίνεται από τον τύπο:\n",
        "$$p(i|x)=\\frac{p(i)\\cdot{\\prod_{k=1}^p}p(x^{(k)}|i)}{\\sum_{j=1}^pp(x^{(k)}|j)}$$\n",
        "- Για να ταξινομήσουμε ένα διάνυσμα χαρακτηριστικών x σε μια κλάση i επιλέγουμε την κλάση που μεγιστοποιεί την παραπάνω πιθανότητα\n",
        "  - Μπορούμε για τη σύγκριση να αγνοήσουμε τον παρονομαστή, αφού για όλες τις κλάσεις θα είναι ίδιος"
      ]
    },
    {
      "cell_type": "code",
      "execution_count": null,
      "metadata": {
        "id": "GNbBhsg2ach8"
      },
      "outputs": [],
      "source": [
        "# κάνουμε κάθε μεταβλήτη του συνόλου εκπαίδευσης διακρίτη σε σε διαστήματα \n",
        "\n",
        "def discretize(x, num_of_classes = 5):  \n",
        "    x_r = []\n",
        "    for row in x:\n",
        "        discrete = []\n",
        "        for i, feature in enumerate(row):\n",
        "            discrete_feature = [0] * num_of_classes\n",
        "            for j, v in enumerate(np.linspace(0, 1, num_of_classes + 1)):\n",
        "                if float(feature) < v:\n",
        "                    break\n",
        "            discrete_feature[j-1] = 1\n",
        "            discrete += discrete_feature\n",
        "        x_r.append(discrete)\n",
        "    return np.array(x_r)\n",
        "\n",
        "x_train_r = discretize(x_train)\n",
        "x_test_r = discretize(x_test)\n"
      ]
    },
    {
      "cell_type": "markdown",
      "metadata": {
        "id": "lFORd6XJakZl"
      },
      "source": [
        "Παρακάτω σας δίνεται η κλάση NaiveBayes που υλοποιεί τον αλγόριθμο. Καλείστε αρχικά να υπολογίσετε την πιθανότητα $p(x^{(k)}|i)$ για διάνυσμα χαρακτηριστκών $x$ και κατηγορία $i$ στη μέθοδο compute_probabilities. Στη συνέχεια θα υπολογίσετε την πιθανότητα $p(i|x)$ στη μέθοδο predict."
      ]
    },
    {
      "cell_type": "code",
      "execution_count": null,
      "metadata": {
        "id": "ufKo5f5yaiqH"
      },
      "outputs": [],
      "source": [
        "class NaiveBayes:\n",
        "    def __init__(self, x, y):\n",
        "        self.x = x\n",
        "        self.y = y\n",
        "        ## pC is a vector with the probability of each class\n",
        "        self.pC = np.zeros((len(genres),))\n",
        "        ## pxC is an array with all probabilities p(xi|C)\n",
        "        self.pxC = np.zeros((x.shape[-1], len(genres)))\n",
        "        ## Compute the probabilities\n",
        "        self.compute_probabilities()\n",
        "\n",
        "    def compute_probabilities(self):\n",
        "        \n",
        "        ## Compute p(C) for each class\n",
        "        for label in self.y: self.pC[label] += 1\n",
        "        self.pC = self.pC / self.y.shape[0]\n",
        "\n",
        "        ## Compute p(xi|C) for each feature xi and class C\n",
        "        # hint: you can use one or more for loops\n",
        "        ###################\n",
        "        ## Your code below\n",
        "        pxC = self.pxC\n",
        "        pC = self.pC\n",
        "        x = self.x \n",
        "        y = self.y \n",
        "        for attr in range(x.shape[-1]):\n",
        "          for song in range(len(y)):\n",
        "            pxC[attr][y[song]] += x[song][attr]\n",
        "        for genre in range(len(genres)):\n",
        "          for attr in range(x.shape[-1]):\n",
        "            pxC[attr][genre] /= pC[genre]*y.shape[0] \n",
        "        return pxC \n",
        "        ## Your code above\n",
        "        ##################\n",
        "\n",
        "    def predict(self, song):\n",
        "        ## ~Probability of x belonging to each class\n",
        "        ## (not actucal probability since we ignore denominator)\n",
        "        pcX = np.ones((len(genres),))\n",
        "        xsize = self.x.shape[-1]\n",
        "        pC = self.pC\n",
        "        x = self.x\n",
        "        pxC = self.pxC\n",
        "        for i in range(len(genres)):\n",
        "          # hint: We have probabilities p({x_j=1}|i) in self.pxC\n",
        "          # We also need p({x_j=0}|i) for computing p(x|i)\n",
        "          #################\n",
        "          ## Your code below\n",
        "          pcX[i] = pC[i]\n",
        "          for attr in range(x.shape[-1]):\n",
        "            if song[attr] == 1:\n",
        "              pcX[i] *= pxC[attr][i]\n",
        "            elif song[attr] == 0:\n",
        "              pcX[i] *= 1 - pxC[attr][i]\n",
        "          ## Your code above\n",
        "          ##################\n",
        "      \n",
        "        return np.argmax(pcX)"
      ]
    },
    {
      "cell_type": "markdown",
      "metadata": {
        "id": "cO9h_Q8bbAgF"
      },
      "source": [
        "## Αξιολόγηση του Naive Bayes"
      ]
    },
    {
      "cell_type": "code",
      "execution_count": null,
      "metadata": {
        "id": "2PzuaP48amDv",
        "colab": {
          "base_uri": "https://localhost:8080/"
        },
        "outputId": "4ed6aaa1-a1f1-4b69-844d-a58499f01f34"
      },
      "outputs": [
        {
          "output_type": "stream",
          "name": "stdout",
          "text": [
            "precision: 0.7898962148962149\n",
            "recall: 0.7625914882081865\n",
            "f1: 0.7573448773448774\n",
            "accuracy: 0.76\n",
            "Confusion matrix: \n",
            "[[20  7  7]\n",
            " [ 0 27  4]\n",
            " [ 1  5 29]]\n"
          ]
        }
      ],
      "source": [
        "nb = NaiveBayes(x_train_r, y_train)\n",
        "preds = [nb.predict(i) for i in x_test_r[:100]]\n",
        "eval = Evaluate(y_test[:100], preds)\n",
        "eval.get_evaluation_report()"
      ]
    },
    {
      "cell_type": "markdown",
      "metadata": {
        "id": "xMUHg-dubFa2"
      },
      "source": [
        "## Έτοιμος Naive Bayes\n",
        "\n",
        "Όπως με τους περισσότερους αλγορίθμους μηχανικής μάθησης, υπάρχουν έτοιμες βελτιστοποιημένες υλοποιήσεις για τον Naive Bayes. Παρακάτω ο Gaussian Naive Bayes από το Sklearn. Σε αντίθεση με τη δική μας υλοποίηση, ο συγκεκριμένος δουλεύει και με συνεχή δεδομένα, αφού πρώτα κάνει την υπόθεση πως κάθε χαρακτηριστικό ακολουθεί κανονική κατανομή ([documentation](https://scikit-learn.org/stable/modules/generated/sklearn.naive_bayes.GaussianNB.html))."
      ]
    },
    {
      "cell_type": "code",
      "execution_count": null,
      "metadata": {
        "id": "qNir3SOIW9nb",
        "colab": {
          "base_uri": "https://localhost:8080/"
        },
        "outputId": "18117f01-eb7e-4e22-fcc5-ef62e224d6da"
      },
      "outputs": [
        {
          "output_type": "stream",
          "name": "stdout",
          "text": [
            "precision: 0.7941798941798942\n",
            "recall: 0.7629800307219662\n",
            "f1: 0.7492577844690521\n",
            "accuracy: 0.76\n",
            "Confusion matrix: \n",
            "[[17  8  9]\n",
            " [ 1 28  2]\n",
            " [ 0  4 31]]\n"
          ]
        }
      ],
      "source": [
        "from sklearn.naive_bayes import GaussianNB\n",
        "\n",
        "gnb = GaussianNB()\n",
        "y_pred = gnb.fit(x_train, y_train).predict(x_test[:100])\n",
        "\n",
        "eval = Evaluate(y_test[:100], y_pred)\n",
        "eval.get_evaluation_report()"
      ]
    },
    {
      "cell_type": "markdown",
      "metadata": {
        "id": "KaecLreybI-3"
      },
      "source": [
        "## Σύγκριση υλοποιήσεων\n",
        "\n",
        "Όμοια με πριν θα συγκρίνετε τα αποτελέσματα και τους χρόνους εκτέλεσης για τις δύο υλοποιήσεις. Σχολιάστε την επίδοση σε κάθε περίπτωση. Ποιες από τις παραδοχές που κάναμε δεν ισχύουν;"
      ]
    },
    {
      "cell_type": "code",
      "execution_count": null,
      "metadata": {
        "id": "Lz-k1DL-bG9v",
        "colab": {
          "base_uri": "https://localhost:8080/"
        },
        "outputId": "a6b81a00-c4e3-4980-b46e-ea83c4ee5293"
      },
      "outputs": [
        {
          "output_type": "stream",
          "name": "stdout",
          "text": [
            "CPU times: user 399 ms, sys: 0 ns, total: 399 ms\n",
            "Wall time: 402 ms\n"
          ]
        }
      ],
      "source": [
        "%%time\n",
        "nb = NaiveBayes(x_train_r,y_train)\n",
        "preds = [ nb.predict(i) for i in x_test_r[:100]]"
      ]
    },
    {
      "cell_type": "code",
      "execution_count": null,
      "metadata": {
        "id": "neUU0A-AW9nc",
        "colab": {
          "base_uri": "https://localhost:8080/"
        },
        "outputId": "b181f1de-0e20-4290-a804-0b3085d21450"
      },
      "outputs": [
        {
          "output_type": "stream",
          "name": "stdout",
          "text": [
            "CPU times: user 5.63 ms, sys: 0 ns, total: 5.63 ms\n",
            "Wall time: 5.72 ms\n"
          ]
        }
      ],
      "source": [
        "%%time\n",
        "gnb = GaussianNB()\n",
        "y_pred = gnb.fit(x_train, y_train).predict(x_test[:100])"
      ]
    },
    {
      "cell_type": "code",
      "source": [
        "nb = NaiveBayes(x_train_r, y_train)\n",
        "preds = [nb.predict(i) for i in x_test_r[:500]]\n",
        "eval = Evaluate(y_test[:500], preds)\n",
        "eval.get_evaluation_report()"
      ],
      "metadata": {
        "colab": {
          "base_uri": "https://localhost:8080/"
        },
        "id": "vq0CBvcS6yso",
        "outputId": "3e44361a-e55c-47f2-8501-4e1ab1b9f5e1"
      },
      "execution_count": null,
      "outputs": [
        {
          "output_type": "stream",
          "name": "stdout",
          "text": [
            "precision: 0.7283924578717929\n",
            "recall: 0.7035260280858058\n",
            "f1: 0.6997866510739117\n",
            "accuracy: 0.704\n",
            "Confusion matrix: \n",
            "[[ 89  37  39]\n",
            " [ 12 123  34]\n",
            " [  3  23 140]]\n"
          ]
        }
      ]
    },
    {
      "cell_type": "code",
      "source": [
        "from sklearn.naive_bayes import GaussianNB\n",
        "\n",
        "gnb = GaussianNB()\n",
        "y_pred = gnb.fit(x_train, y_train).predict(x_test[:500])\n",
        "\n",
        "eval = Evaluate(y_test[:500], y_pred)\n",
        "eval.get_evaluation_report()"
      ],
      "metadata": {
        "colab": {
          "base_uri": "https://localhost:8080/"
        },
        "id": "2bNveZ0U6zOw",
        "outputId": "82cea802-4d4a-4c64-e7fa-98374010f14b"
      },
      "execution_count": null,
      "outputs": [
        {
          "output_type": "stream",
          "name": "stdout",
          "text": [
            "precision: 0.7430754289190272\n",
            "recall: 0.7112356184645341\n",
            "f1: 0.7046172412299962\n",
            "accuracy: 0.712\n",
            "Confusion matrix: \n",
            "[[ 83  38  44]\n",
            " [ 10 130  29]\n",
            " [  1  22 143]]\n"
          ]
        }
      ]
    },
    {
      "cell_type": "code",
      "source": [
        "nb = NaiveBayes(x_train_r, y_train)\n",
        "preds = [nb.predict(i) for i in x_test_r[:1500]]\n",
        "eval = Evaluate(y_test[:1500], preds)\n",
        "eval.get_evaluation_report()"
      ],
      "metadata": {
        "colab": {
          "base_uri": "https://localhost:8080/"
        },
        "id": "0I682t7C6zkW",
        "outputId": "f767e7e7-da45-4552-f8af-6ada4136cb18"
      },
      "execution_count": null,
      "outputs": [
        {
          "output_type": "stream",
          "name": "stdout",
          "text": [
            "precision: 0.6888849647299552\n",
            "recall: 0.6712228437180352\n",
            "f1: 0.6681464962831086\n",
            "accuracy: 0.6693333333333333\n",
            "Confusion matrix: \n",
            "[[282 129 105]\n",
            " [ 48 340 102]\n",
            " [ 15  97 382]]\n"
          ]
        }
      ]
    },
    {
      "cell_type": "code",
      "source": [
        "from sklearn.naive_bayes import GaussianNB\n",
        "\n",
        "gnb = GaussianNB()\n",
        "y_pred = gnb.fit(x_train, y_train).predict(x_test[:1500])\n",
        "\n",
        "eval = Evaluate(y_test[:1500], y_pred)\n",
        "eval.get_evaluation_report()"
      ],
      "metadata": {
        "colab": {
          "base_uri": "https://localhost:8080/"
        },
        "id": "mFHQBH2a6z51",
        "outputId": "dd2af8f1-da1b-4be5-b535-9369ef6166ec"
      },
      "execution_count": null,
      "outputs": [
        {
          "output_type": "stream",
          "name": "stdout",
          "text": [
            "precision: 0.72808288353919\n",
            "recall: 0.7011417396886884\n",
            "f1: 0.6928625671389327\n",
            "accuracy: 0.698\n",
            "Confusion matrix: \n",
            "[[259 138 119]\n",
            " [ 31 384  75]\n",
            " [  6  84 404]]\n"
          ]
        }
      ]
    },
    {
      "cell_type": "code",
      "source": [
        "nb = NaiveBayes(x_train_r, y_train)\n",
        "preds = [nb.predict(i) for i in x_test_r[:3500]]\n",
        "eval = Evaluate(y_test[:3500], preds)\n",
        "eval.get_evaluation_report()"
      ],
      "metadata": {
        "colab": {
          "base_uri": "https://localhost:8080/"
        },
        "id": "ChjEDCch60XN",
        "outputId": "09e48943-83be-4a86-c6ec-45697f25743d"
      },
      "execution_count": null,
      "outputs": [
        {
          "output_type": "stream",
          "name": "stdout",
          "text": [
            "precision: 0.689898463700544\n",
            "recall: 0.6714851551116209\n",
            "f1: 0.6673475365536333\n",
            "accuracy: 0.67\n",
            "Confusion matrix: \n",
            "[[626 299 267]\n",
            " [113 814 222]\n",
            " [ 34 220 905]]\n"
          ]
        }
      ]
    },
    {
      "cell_type": "code",
      "source": [
        "from sklearn.naive_bayes import GaussianNB\n",
        "\n",
        "gnb = GaussianNB()\n",
        "y_pred = gnb.fit(x_train, y_train).predict(x_test[:3500])\n",
        "\n",
        "eval = Evaluate(y_test[:3500], y_pred)\n",
        "eval.get_evaluation_report()"
      ],
      "metadata": {
        "colab": {
          "base_uri": "https://localhost:8080/"
        },
        "id": "sN-zAtq5Biiw",
        "outputId": "31c1a5b0-7eda-4909-972d-210e2a7143a3"
      },
      "execution_count": null,
      "outputs": [
        {
          "output_type": "stream",
          "name": "stdout",
          "text": [
            "precision: 0.7188218332611873\n",
            "recall: 0.6894708095706954\n",
            "f1: 0.6799846478276069\n",
            "accuracy: 0.6871428571428572\n",
            "Confusion matrix: \n",
            "[[563 345 284]\n",
            " [ 74 905 170]\n",
            " [ 17 205 937]]\n"
          ]
        }
      ]
    },
    {
      "cell_type": "code",
      "source": [
        "nb = NaiveBayes(x_train_r, y_train)\n",
        "preds = [nb.predict(i) for i in x_test_r[:4060]]\n",
        "eval = Evaluate(y_test[:4060], preds)\n",
        "eval.get_evaluation_report()"
      ],
      "metadata": {
        "colab": {
          "base_uri": "https://localhost:8080/"
        },
        "id": "C3Xbqbc5B2m9",
        "outputId": "9b739293-1888-4dbb-f978-e175d358ec9a"
      },
      "execution_count": null,
      "outputs": [
        {
          "output_type": "stream",
          "name": "stdout",
          "text": [
            "precision: 0.6901622413361558\n",
            "recall: 0.6712152867288165\n",
            "f1: 0.6673501493248728\n",
            "accuracy: 0.6704433497536946\n",
            "Confusion matrix: \n",
            "[[ 716  353  301]\n",
            " [ 133  942  263]\n",
            " [  38  250 1064]]\n"
          ]
        }
      ]
    },
    {
      "cell_type": "code",
      "source": [
        "from sklearn.naive_bayes import GaussianNB\n",
        "\n",
        "gnb = GaussianNB()\n",
        "y_pred = gnb.fit(x_train, y_train).predict(x_test[:4060])\n",
        "\n",
        "eval = Evaluate(y_test[:4060], y_pred)\n",
        "eval.get_evaluation_report()"
      ],
      "metadata": {
        "colab": {
          "base_uri": "https://localhost:8080/"
        },
        "id": "hMmATFT0B1Fo",
        "outputId": "1cc77c26-b8e6-405b-e97a-32255b5355fa"
      },
      "execution_count": null,
      "outputs": [
        {
          "output_type": "stream",
          "name": "stdout",
          "text": [
            "precision: 0.7209350739448079\n",
            "recall: 0.6899800445772755\n",
            "f1: 0.6812033110568363\n",
            "accuracy: 0.6886699507389162\n",
            "Confusion matrix: \n",
            "[[ 647  405  318]\n",
            " [  83 1057  198]\n",
            " [  20  240 1092]]\n"
          ]
        }
      ]
    },
    {
      "cell_type": "markdown",
      "metadata": {
        "id": "SAmP4BrCbOB9"
      },
      "source": [
        "## Σχολιασμός\n",
        "\n",
        "\n",
        "Παρατηρούμε ότι η δική μας υλοποίηση του Naive Bayes είναι πιο αργή από την έτοιμη υλοποίηση κάτι που ήταν αναμενόμενο καθώς στην έτοιμη υλοποίηση θα υπάρχουν πολλές βελτιστοποιήσεις. Επιπλέον, παρατηρούμε ότι ο δικός μας ταξινομητής έχει accuracy πολύ κοντα στο accuracy του έτοιμου ταξινομητή κάτι το οποίο σημαίνει ότι η υπόθεση για κανονική κατανομή των δεδομένων είναι λίγο καλύτερη από την υπόθεση δεσμευμένης ανεξαρτησίας που κάναμε. Σε κάθε περίπτωση όμως φαίνεται ότι και η υπόθεση δεσμευμένης ανεξαρτησίας προσεγγίζει αρκετά καλα την πραγματικότητα όπως και η υπόθεση για κανονική κατανομή αφού πετυχαίνουμε accuracy της τάξης του 67-68% σε όλο το test-set. Το accuracy αυτό είναι λίγο μικρότερο από το accuracy που πετυχαίνουν οι ταξινομητές ΚΝΝ ωστόσο ο πολύ μικρότερος χρόνος εκτέλεσης του Naive-Bayes σε σχέση με τους ταξινομητές ΚΝΝ αποτελεί πολύ σημαντικό πλεονέκτημα."
      ]
    },
    {
      "cell_type": "markdown",
      "metadata": {
        "id": "8B3FYDfnW9nd"
      },
      "source": [
        "# 4ο Μέρος: Multi-Layer Perceptron \n",
        "\n",
        "Στο τέταρτο μέρος της άσκησης θα κατασκευάσετε ένα πολυεπίπεδο νευρωνικό δίκτυο. Ο ταξινομητής αυτός θα εκπαιδευτεί στο να ταξινομεί τα δείγματα των μουσικών κομματιών σε μια από τις 3 διαφορετικές κλάσεις που επιλέχθηκαν (Electronic, Rock, Rap). Αρχικά, θα υλοποιήσετε το μοντέλο αυτό χρησιμοποιώντας αποκλειστικά την βιβλιοθήκη numpy ενώ στην συνέχεια θα χρησιμοποιήσετε μια έτοιμη κλάση για την κατασκευή του ίδιου μοντέλου. \n",
        "\n",
        "Ας θυμηθούμε από τις διαφάνειες: \n",
        "\n",
        "Κάθε MLP αποτελείται από επίπεδα όπου το κάθε ένα από αυτά χωρίζεται στα παρακάτω μέρη: \n",
        "\n",
        "$$ z(x) = w^Τx + b $$ \n",
        "$$ f(x) = a(z(x))$$ \n",
        "\n",
        "όπου $w$, $b$ είναι τα βάρη του επιπέδου.  Η έξοδος z(x) είναι η απόκριση κάθε νευρώνα πριν την συνάρτηση ενεργοποίησης ενώ η f(x) μετά.  Κάθε επίπεδο συνδέεται με ένα επόμενο του οποίου η είσοδός του αποτελεί την έξοδο (με την συνάρτηση ενεργοποίησης) του προηγούμενου. \n",
        "\n",
        "Στο μέρος αυτό καλείστε να συμπληρώσετε ορισμένα σημεία κώδικα ώστε να επιτυγχάνεται αυτή η λειτουργικότητα. Στην συνέχεια θα υλοποιήσετε το ίδιο ακριβώς μοντέλο χρησιμοποιώντας όμως μια έτοιμη βιβλιοθήκη και θα συγκρίνετε τα αποτελέσματά τους (χρόνο, σκορ κ.α.). \n",
        "\n",
        "Σε αυτό το σημείο της άσκησης θα επιλύσετε το παραπάνω πρόβλημα κατασκευάζοντας ένα πολυεπίπεδο νευρωνικό δίκτυο. Αρχικά θα υλοποιήσετε το νευρωνικό χωρίς να χρησιμοποιήσετε κάποια έτοιμη κλάση κάποιας βιβλιοθήκης (όπως scikit-learn, keras), ενώ στην συνέχεια θα κατασκευάσετε το ίδιο σύστημα με την χρήση της βιβλιοθήκης scikit-learn. \n",
        "\n",
        "Στο παρακάτω κελί κώδικα σάς δίνεται η βασική δομή του επιπέδου ενός πολυεπίπεδου νευρωνικού δικτύου. Η παρακάτω κλάση δεν υλοποιεί κάποιο πραγματικό επίπεδο (όπως Dense) αλλά αυτή χρησιμοποιείται για την παρουσίαση των λειτουργιών κάθε επιπέδου.\n",
        "\n",
        "Ουσιαστικά κάθε επίπεδο ενός νευρωνικού δικτύου πρέπει να είναι σε θέση να κάνει: \n",
        "\n",
        "\n",
        "1.   Για μια είσοδο να υπολογίζει την έξοδο κάθε νευρώνα. Αυτό επιτυγχάνεται μέσω της μεθόδου forward η όποια δέχεται ως όρισμα μια είσοδο  και επιστρέφει έναν πίνακα με τις εξόδους κάθε νευρώνα του επιπέδου. \n",
        "\n",
        "2.   Να υπολογίζει τις μεταβολές οι όποιες πρέπει να γίνουν στα βάρη κάθε επιπέδου, ανάλογα με το πόσο καλά-κοντινά ήταν τα αποτελέσματα του επιπέδου στα πραγματικά. Η λειτουργία αυτή θα μας βοηθήσει στην ανανέωση των βαρών του δικτύου και συνεπώς στη σωστή εκπαίδευσή του. Η λειτουργικότητα αυτή επιτυγχάνεται μέσω της μεθόδου backward. \n",
        "\n",
        "  \n",
        "\n",
        "Η λειτουργικότητα, συνεπώς, κάθε επιπέδου καθορίζεται από την συνάρτηση που υλοποιείται στην μέθοδο forward. Ένα instance της παρακάτω κλάσης, συνεπώς, επιστρέφει ως έξοδο την είσοδο κάθε νευρώνα (ταυτοτική συνάρτηση) όποτε δεν προσφέρει κάποια υψηλή λειτουργικότητα. Στην παρακάτω κλάση δεν έχετε να προσθέσετε κάτι, απλά να μελετήσετε και να καταλάβετε την δομή που πρέπει να έχει ένα επίπεδο. "
      ]
    },
    {
      "cell_type": "code",
      "execution_count": null,
      "metadata": {
        "id": "jgx1VIMmbMQP"
      },
      "outputs": [],
      "source": [
        "class Layer:\n",
        "    def __init__(self):\n",
        "        \"\"\"Here we can initialize layer parameters (if any) and auxiliary stuff.\"\"\"\n",
        "        # A dummy layer does nothing\n",
        "        pass\n",
        "    \n",
        "    def forward(self, input):\n",
        "        \"\"\"\n",
        "        Takes input data of shape [batch, input_units], returns output data [batch, output_units]\n",
        "        \"\"\"\n",
        "        # A dummy layer just returns whatever it gets as input.\n",
        "        return input\n",
        "\n",
        "    def backward(self, input, grad_output):\n",
        "        # The gradient of a dummy layer is precisely grad_output, but we'll write it more explicitly\n",
        "        num_units = input.shape[1]\n",
        "        \n",
        "        d_layer_d_input = np.eye(num_units)\n",
        "        \n",
        "        return np.dot(grad_output, d_layer_d_input) # chain rule"
      ]
    },
    {
      "cell_type": "markdown",
      "metadata": {
        "id": "r1iQCroAbV-F"
      },
      "source": [
        "Στο σημείο αυτό αξίζει να αναφερθεί ότι για την σωστή εκπαίδευση του δικτύου (σε πρακτικό επίπεδο) πρέπει να διαχωριστεί η έξοδος κάθε νευρώνα πριν και μετά την συνάρτηση ενεργοποίησης. Έτσι η παραπάνω μέθοδος forward της κλάσης layer πρέπει να υπολογίζει την έξοδο του επιπέδου χωρίς την συνάρτηση ενεργοποίησης και κάποια άλλη κλάση να υπολογίζει το αποτέλεσμα με αυτή.  \n",
        "\n",
        "  \n",
        "\n",
        "Έκτος όμως από την εκπαίδευση του δικτύου, ο διαχωρισμός αυτός μας βοηθά σημαντικά και κατά την φάση σχεδιασμού της  αρχιτεκτονικής μιας και μας δίνει την δυνατότητα να αλλάζουμε την συνάρτηση ενεργοποίησης χωρίς κάθε φόρα να πρέπει να αλλάξουμε ολόκληρη την κλάση layer. Για τους παραπάνω λόγους θα χειριζόμαστε την συνάρτηση ενεργοποίησης σαν ένα ξεχωριστό επίπεδο με τις δικές της μεθόδους: forward, backward.  \n",
        "\n",
        "  \n",
        "\n",
        "Παρακάτω παρουσιάζεται η κλάση η όποια υλοποιεί την λειτουργικότητα της συνάρτησης ενεργοποίησης [ReLU](https://en.wikipedia.org/wiki/Rectifier_(neural_networks)).  \n",
        "\n",
        "  \n",
        "\n",
        "Με την ίδια λογική μπορούμε να υλοποιήσουμε οποιαδήποτε άλλη συνάρτηση ενεργοποίησης θέλουμε π.χ. sigmoid, tanh κ.ο.κ. και επιπλέον μπορούμε να τις εναλλάσσουμε μεταξύ επιπέδων χωρίς δυσκολία. "
      ]
    },
    {
      "cell_type": "code",
      "execution_count": null,
      "metadata": {
        "id": "6P33228VbYIf"
      },
      "outputs": [],
      "source": [
        "class ReLU(Layer):\n",
        "    def __init__(self):\n",
        "        \"\"\"ReLU layer simply applies elementwise rectified linear unit to all inputs\"\"\"\n",
        "        pass\n",
        "    \n",
        "    def forward(self, input):\n",
        "        \"\"\"Apply elementwise ReLU to [batch, input_units] matrix\"\"\"\n",
        "        relu_forward = np.maximum(0, input)\n",
        "        return relu_forward\n",
        "    \n",
        "    def backward(self, input, grad_output):\n",
        "        \"\"\"Compute gradient of loss w.r.t. ReLU input\"\"\"\n",
        "        relu_grad = input > 0\n",
        "        return grad_output*relu_grad"
      ]
    },
    {
      "cell_type": "markdown",
      "metadata": {
        "id": "Rrrub_76ba19"
      },
      "source": [
        "Η κλάση Dense υλοποιεί ένα επίπεδο dense όπου η έξοδος κάθε νευρώνα (χωρίς τη  συνάρτηση ενεργοποίησης) υπολογίζεται από την παρακάτω εξίσωση: \n",
        "\n",
        "  \n",
        "\n",
        "  \n",
        "\n",
        "$$ z(x) = w^Τx + b $$ \n",
        "\n",
        "  \n",
        "\n",
        "όπου $w$, $b$ είναι τα βάρη του επιπέδου.   \n",
        "\n",
        "  \n",
        "\n",
        "Συνεπώς το δίκτυο είναι απαραίτητο να διατηρεί τους δυο πίνακες με τα βάρη οι οποίοι στην μέθοδο forward θα χρησιμοποιούνται για τον υπολογισμό της εξόδου και θα ανανεώνονται από την μέθοδο backward. Οι πίνακες αυτοί δημιουργούνται κατά την κατασκευή κάθε στιγμιότυπου και αρχικοποιούνται, ο πρώτος τυχαία και ο δεύτερος με μηδενικά.  Στο σημείο αυτό καλείστε να συμπληρώσετε την μέθοδο forward με κατάλληλο τρόπο ώστε να επιτυγχάνεται η επιθυμητή λειτουργικότητα. "
      ]
    },
    {
      "cell_type": "code",
      "execution_count": null,
      "metadata": {
        "id": "HEnuIuOHbZge"
      },
      "outputs": [],
      "source": [
        "class Dense(Layer):\n",
        "    def __init__(self, input_units, output_units, learning_rate = 0.1):\n",
        "        self.input_units = input_units\n",
        "        self.output_units = output_units\n",
        "        \n",
        "        self.learning_rate = learning_rate\n",
        "        self.weights = np.random.normal(loc = 0.0, \n",
        "                                        scale = np.sqrt(2 / (input_units + output_units)), \n",
        "                                        size = (input_units, output_units))\n",
        "        self.biases = np.zeros(output_units)\n",
        "        \n",
        "    def forward(self, input):\n",
        "        \"\"\"\n",
        "        Perform an affine transformation:\n",
        "        f(x) = <W*x> + b\n",
        "        \n",
        "        input shape: [number of inputs, input units]\n",
        "        output shape: [number of inputs, output units]\n",
        "        \"\"\"\n",
        "        ###################\n",
        "        ## Your code below\n",
        "        ## hint: numpy.dot\n",
        "        output = np.dot(input,self.weights) + self.biases\n",
        "\n",
        "        \n",
        "        ## Your code above\n",
        "        ##################\n",
        "        return output\n",
        "\n",
        "    def backward(self, input, grad_output):\n",
        "        # compute d f / d x = d f / d dense * d dense / d x\n",
        "        # where d dense/ d x = weights transposed\n",
        "        grad_input = np.dot(grad_output, self.weights.T)\n",
        "\n",
        "        # compute gradient w.r.t. weights and biases\n",
        "        grad_weights = np.dot(input.T, grad_output)\n",
        "        grad_biases = grad_output.mean(axis = 0) * input.shape[0]\n",
        "        assert grad_weights.shape == self.weights.shape and grad_biases.shape == self.biases.shape\n",
        "\n",
        "        # Here we perform a stochastic gradient descent step. \n",
        "        self.weights = self.weights - self.learning_rate * grad_weights\n",
        "        self.biases = self.biases - self.learning_rate * grad_biases\n",
        "        return grad_input"
      ]
    },
    {
      "cell_type": "markdown",
      "metadata": {
        "id": "Ml2jvLeybeRe"
      },
      "source": [
        "Οι παρακάτω συναρτήσεις χρησιμοποιούνται για να μπορεί το δίκτυο να ελέγχει πόσο κοντά βρίσκονται τα αποτελέσματά του στα πραγματικά (Loss function). Όπως είναι λογικό υπάρχουν διαφορετικές τέτοιες συναρτήσεις ανάλογα το πρόβλημα που καλείται να λύσει το δίκτυο. Η παρακάτω συνάρτηση ονομάζεται [softmax](https://en.wikipedia.org/wiki/Softmax_function) και χρησιμοποιείται κατά κύριο λόγο σε προβλήματα ταξινόμησης όπως το συγκεκριμένο. Η softmax δέχεται σαν είσοδο τις ενεργοποιήσεις του τελευταίου επιπέδου και επιστρέφει μια κατανομή πιθανοτήτων για κάθε μια από τις κλάσεις εξόδου (π.χ. κλάση 0 έχει πιθανότητα 0.001,  η κλάση 1 έχει 0.9 κ.ο.κ.).  "
      ]
    },
    {
      "cell_type": "code",
      "execution_count": null,
      "metadata": {
        "id": "qT7nl_1Gbc0B"
      },
      "outputs": [],
      "source": [
        "def softmax_crossentropy_with_logits(logits, reference_answers):\n",
        "    logits_for_answers = logits[np.arange(len(logits)),reference_answers]\n",
        "    xentropy = - logits_for_answers + np.log(np.sum(np.exp(logits),axis=-1))\n",
        "    return xentropy\n",
        "\n",
        "def grad_softmax_crossentropy_with_logits(logits, reference_answers):\n",
        "    ones_for_answers = np.zeros_like(logits)\n",
        "    ones_for_answers[np.arange(len(logits)),reference_answers] = 1\n",
        "    softmax = np.exp(logits) / np.exp(logits).sum(axis=-1,keepdims=True)\n",
        "    return (- ones_for_answers + softmax) / logits.shape[0]"
      ]
    },
    {
      "cell_type": "markdown",
      "metadata": {
        "id": "5XnSJjxYbhdX"
      },
      "source": [
        "Έχοντας υλοποιήσει τις κλάσεις Dense και ReLU μπορούμε πλέον να κατασκευάσουμε μια κλάση η όποια θα ορίζει ένα πολυεπίπεδο νευρωνικό δίκτυο (MLP). Το δίκτυο αυτό ουσιαστικά αποτελείται από μια ακολουθία Dense επιπέδων όπου το κάθε ένα (εκτός του τελευταίου) ακολουθείται από μια μη-γραμμική συνάρτηση ενεργοποίησης (ReLU). Όμοια με πριν, η κλάση αυτή πρέπει να περιέχει μια μέθοδο forward η όποια θα δέχεται μια είσοδο (εδώ μια εικόνα flatten) και θα επιστρέφει μια έξοδο (εδώ μια κατανομή 3 πιθανοτήτων). Παράλληλα πρέπει να περιέχει και μια μέθοδο fit, η όποια θα εκπαιδεύει το δίκτυο δεδομένου ενός τέτοιου συνόλου (εδώ του x_train). Στο σημείο αυτό χρησιμοποιούνται οι μέθοδοι backward που έχουν οριστεί για κάθε ένα επίπεδο (δεν χρειάζεται να συμπληρώσετε κάτι).  Τέλος θα ήταν βοηθητικό να έχουμε και μια μέθοδο η όποια θα μετατρέπει την κατανομή εξόδου στην επιστρεφόμενη κλάση (predict) για κάποιο ή κάποια στιγμιότυπα του συνόλου δεδομένων.   \n",
        "\n",
        "Το δίκτυο όπως αναφέρθηκε και προηγουμένως αποτελείται από έναν αριθμό Dense επιπέδων κάθε ένα από τα όποια ακολουθείται από μια συνάρτηση ReLU. Η κατασκευή των επιπέδων γίνεται κατά την στιγμή δημιουργίας του δικτύου, όπου δίνεται ως είσοδος μια λίστα με το μέγεθος κάθε επιπέδου, μαζί με το μέγεθος εισόδου. Έτσι για παράδειγμα η παρακάτω γραμμή κώδικα:  \n",
        "``` \n",
        "net = MLP([100, 200, 100, 10], 784)  \n",
        "```  \n",
        "κατασκευάζει ένα MLP το όποιο αποτελείται από 4 επίπεδα με μέγεθος 100, 200, 100, 10. Ο αριθμός των επιπέδων καθώς και του μεγέθους καθενός από αυτά είναι ελεύθερος να οριστεί από τον χρήστη.   \n",
        "Στον constructor της κλάσης ουσιαστικά ορίζεται μια λίστα η όποια περιέχει κάθε ένα από τα επίπεδα που πρέπει να οριστούν, π.χ. για το παραπάνω παράδειγμα η μεταβλητή net.network περιέχει τα εξής στιγμιότυπα των κλάσεων:  \n",
        "\n",
        "``` \n",
        "[Dense(100), ReLU(), Dense(200), ReLU(), Dense(100), ReLU(), Dense(10)]  \n",
        "```  \n",
        "\n",
        "Συνεπώς η λειτουργικότητα του δικτύου όπως και πριν πρέπει να οριστεί στην μέθοδο forward. Στο σημείο αυτό καλείστε να συμπληρώσετε την μέθοδο αυτή έτσι ώστε το δίκτυο να λειτουργεί όπως πρέπει, δηλαδή στο παράδειγμά μας η είσοδος να περνά από το επίπεδο Dense(100), μετά από το ReLU(), στην συνέχεια από το Dense(200) κ.ο.κ. μέχρι και το τελευταίο επίπεδο.  Ο αλγόριθμος αυτός παρουσιάζεται και σε ψευδοκώδικα στην διαφάνεια 33 του μαθήματος. "
      ]
    },
    {
      "cell_type": "code",
      "execution_count": null,
      "metadata": {
        "id": "MHHcg1unbf21"
      },
      "outputs": [],
      "source": [
        "class MLP:\n",
        "    def __init__(self, shapes, input_dim):\n",
        "        self.shapes = shapes\n",
        "        self.network = [Dense(input_dim, shapes[0])]\n",
        "        self.network.append(ReLU())\n",
        "        for i in range(1, len(self.shapes) - 1):\n",
        "            self.network.append(Dense(shapes[i-1], shapes[i]))\n",
        "            self.network.append(ReLU())\n",
        "        self.network.append(Dense(shapes[i], shapes[-1]))\n",
        "\n",
        "    def forward(self, X):\n",
        "        \"\"\"\n",
        "        Αγόριθμος διφάνειας 33\n",
        "        \"\"\"\n",
        "        activations = []\n",
        "        input = X\n",
        "        # Looping through each layer\n",
        "        for l in self.network:\n",
        "            ###################\n",
        "            ## Your code below\n",
        "            # hint: τροφοδοτούμε την έξοδο κάθε επιπέδου στο επόμενο\n",
        "          activations.append(l.forward(input))  \n",
        "          input = activations[-1]\n",
        "\n",
        "            ## Your code above\n",
        "            ##################        \n",
        "        assert len(activations) == len(self.network)\n",
        "        return activations\n",
        "\n",
        "    def predict(self,X):\n",
        "        \"\"\"\n",
        "        Προβλέπει την έξοδο του δικτύου για ένα ή περισσότερα στιγμιότυπα εισόδου\n",
        "        \"\"\"\n",
        "        logits = self.forward(X)[-1]\n",
        "        return logits.argmax(axis = -1)\n",
        "\n",
        "    def fit(self, X, y):\n",
        "        # Get the layer activations\n",
        "        layer_activations = self.forward(X)\n",
        "        layer_inputs = [X]+layer_activations \n",
        "        logits = layer_activations[-1]\n",
        "\n",
        "        # Compute the loss and the initial gradient\n",
        "        loss = softmax_crossentropy_with_logits(logits,y)\n",
        "        loss_grad = grad_softmax_crossentropy_with_logits(logits,y)\n",
        "\n",
        "        # Propagate gradients through the network\n",
        "        # Reverse propogation as this is backprop\n",
        "        for layer_index in range(len(self.network))[::-1]:\n",
        "            layer = self.network[layer_index]\n",
        "            loss_grad = layer.backward(layer_inputs[layer_index],loss_grad) \n",
        "        return np.mean(loss)"
      ]
    },
    {
      "cell_type": "markdown",
      "metadata": {
        "id": "6zCBcKqvbm4t"
      },
      "source": [
        "## Αξιολόγηση ενός Multi-Layer Perceptron\n",
        "\n",
        "Αφού έχουμε κατασκευάσει τα παραπάνω είμαστε πλέον σε θέση να εκπαιδεύσουμε το MLP. Αυτό γίνεται καλώντας την μέθοδο fit. Στο παρακάτω κελί κώδικα ορίζεται το MLP του παραπάνω παραδείγματος και εκπαιδεύεται για 25 εποχές. Στο τέλος κάθε εποχής παρουσιάζονται τα αποτελέσματα του μαζί με μια γραφική των train και test accuracy. "
      ]
    },
    {
      "cell_type": "code",
      "source": [
        "from IPython.display import clear_output\n",
        "import numpy as np\n",
        "\n",
        "network = MLP([10, 15, 20, 3], len(inputs))\n",
        "\n",
        "train_log = []\n",
        "val_log = []\n",
        "\n",
        "for epoch in range(25):\n",
        "    network.fit(x_train, y_train)   \n",
        "    \n",
        "    train_log.append(np.mean(network.predict(x_train) == y_train))\n",
        "    val_log.append(np.mean(network.predict(x_test) == y_test))\n",
        "    clear_output()\n",
        "    print(\"Epoch\", epoch)\n",
        "    print(\"Train accuracy:\", train_log[-1])\n",
        "    print(\"Val accuracy:\", val_log[-1])  \n",
        "    plt.plot(train_log,label = 'train accuracy')\n",
        "    plt.plot(val_log,label = 'val accuracy')\n",
        "    plt.legend(loc = 'best')\n",
        "    plt.grid()\n",
        "    plt.show()\n",
        "\n",
        "y_pred = network.predict(x_test)\n",
        "\n",
        "eval = Evaluate(y_test, y_pred)\n",
        "eval.get_evaluation_report()"
      ],
      "metadata": {
        "colab": {
          "base_uri": "https://localhost:8080/",
          "height": 467
        },
        "id": "hHtS7UYqIJbF",
        "outputId": "cf4d438d-9a1a-4199-f9a9-84d3410e82c3"
      },
      "execution_count": null,
      "outputs": [
        {
          "output_type": "stream",
          "name": "stdout",
          "text": [
            "Epoch 24\n",
            "Train accuracy: 0.5218033998521804\n",
            "Val accuracy: 0.5224137931034483\n"
          ]
        },
        {
          "output_type": "display_data",
          "data": {
            "image/png": "[encoded data removed]",
            "text/plain": [
              "<Figure size 432x288 with 1 Axes>"
            ]
          },
          "metadata": {
            "needs_background": "light"
          }
        },
        {
          "output_type": "stream",
          "name": "stdout",
          "text": [
            "precision: 0.5274164798985171\n",
            "recall: 0.52205214791464\n",
            "f1: 0.5233526737030224\n",
            "accuracy: 0.5224137931034483\n",
            "Confusion matrix: \n",
            "[[774 235 361]\n",
            " [226 632 480]\n",
            " [255 382 715]]\n"
          ]
        }
      ]
    },
    {
      "cell_type": "code",
      "execution_count": null,
      "metadata": {
        "id": "4jw-8qN6bjQG",
        "colab": {
          "base_uri": "https://localhost:8080/",
          "height": 467
        },
        "outputId": "c423b6bb-92fa-40aa-b145-5d3cbf7cd5cc"
      },
      "outputs": [
        {
          "output_type": "stream",
          "name": "stdout",
          "text": [
            "Epoch 999\n",
            "Train accuracy: 0.7192482314433534\n",
            "Val accuracy: 0.7226600985221675\n"
          ]
        },
        {
          "output_type": "display_data",
          "data": {
            "image/png": "[encoded data removed]",
            "text/plain": [
              "<Figure size 432x288 with 1 Axes>"
            ]
          },
          "metadata": {
            "needs_background": "light"
          }
        },
        {
          "output_type": "stream",
          "name": "stdout",
          "text": [
            "precision: 0.7513398148873695\n",
            "recall: 0.7237892874873157\n",
            "f1: 0.7216959473456276\n",
            "accuracy: 0.7226600985221675\n",
            "Confusion matrix: \n",
            "[[ 800  397  173]\n",
            " [  96 1166   76]\n",
            " [  53  331  968]]\n"
          ]
        }
      ],
      "source": [
        "from IPython.display import clear_output\n",
        "import numpy as np\n",
        "\n",
        "network = MLP([10, 15, 20, 3], len(inputs))\n",
        "\n",
        "train_log = []\n",
        "val_log = []\n",
        "\n",
        "for epoch in range(1000):\n",
        "    network.fit(x_train, y_train)   \n",
        "    \n",
        "    train_log.append(np.mean(network.predict(x_train) == y_train))\n",
        "    val_log.append(np.mean(network.predict(x_test) == y_test))\n",
        "    clear_output()\n",
        "    print(\"Epoch\", epoch)\n",
        "    print(\"Train accuracy:\", train_log[-1])\n",
        "    print(\"Val accuracy:\", val_log[-1])  \n",
        "    plt.plot(train_log,label = 'train accuracy')\n",
        "    plt.plot(val_log,label = 'val accuracy')\n",
        "    plt.legend(loc = 'best')\n",
        "    plt.grid()\n",
        "    plt.show()\n",
        "\n",
        "y_pred = network.predict(x_test)\n",
        "\n",
        "eval = Evaluate(y_test, y_pred)\n",
        "eval.get_evaluation_report()"
      ]
    },
    {
      "cell_type": "markdown",
      "metadata": {
        "id": "ygud3NX3b-wN"
      },
      "source": [
        "## Έτοιμο Multi-Layer Perceptron \n",
        "\n",
        "Όπως και με τις τεχνικές των παραπάνω ερωτημάτων έτσι και εδώ υπάρχει έτοιμη η παραπάνω κλάση σε διάφορες βιβλιοθήκες. Έτσι στο δεύτερο μέρος του ερωτήματος αυτού θα κατασκευάσετε το ίδιο MLP χρησιμοποιώντας όμως την έτοιμη κλάση [MLPClassifier](https://scikit-learn.org/stable/modules/generated/sklearn.neural_network.MLPClassifier.html)  της βιβλιοθήκης scikit-learn. Παρακάτω παρουσιάζεται ένα παράδειγμα χρήσης της κλάσης αυτής. "
      ]
    },
    {
      "cell_type": "code",
      "execution_count": null,
      "metadata": {
        "id": "hltXBE2Vbojo",
        "colab": {
          "base_uri": "https://localhost:8080/"
        },
        "outputId": "3187da78-9485-49f2-cb5e-e09e35e038f3"
      },
      "outputs": [
        {
          "output_type": "stream",
          "name": "stdout",
          "text": [
            "precision: 0.7495960951089157\n",
            "recall: 0.7403343959554508\n",
            "f1: 0.7392470580383038\n",
            "accuracy: 0.7396551724137931\n",
            "Confusion matrix: \n",
            "[[ 874  316  180]\n",
            " [ 139 1078  121]\n",
            " [  67  234 1051]]\n"
          ]
        },
        {
          "output_type": "stream",
          "name": "stderr",
          "text": [
            "/usr/local/lib/python3.7/dist-packages/sklearn/neural_network/_multilayer_perceptron.py:696: ConvergenceWarning: Stochastic Optimizer: Maximum iterations (25) reached and the optimization hasn't converged yet.\n",
            "  ConvergenceWarning,\n"
          ]
        }
      ],
      "source": [
        "from sklearn.neural_network import MLPClassifier\n",
        "\n",
        "epochs = 25\n",
        "mlp = MLPClassifier(hidden_layer_sizes=(10, 15, 20), max_iter = epochs)\n",
        "\n",
        "mlp.fit(x_train,y_train)\n",
        "\n",
        "y_pred = mlp.predict(x_test)\n",
        "eval = Evaluate(y_test, y_pred)\n",
        "eval.get_evaluation_report()"
      ]
    },
    {
      "cell_type": "code",
      "source": [
        "from sklearn.neural_network import MLPClassifier\n",
        "\n",
        "epochs = 1000\n",
        "mlp = MLPClassifier(hidden_layer_sizes=(10, 15, 20), max_iter = epochs)\n",
        "\n",
        "mlp.fit(x_train,y_train)\n",
        "\n",
        "y_pred = mlp.predict(x_test)\n",
        "eval = Evaluate(y_test, y_pred)\n",
        "eval.get_evaluation_report()"
      ],
      "metadata": {
        "colab": {
          "base_uri": "https://localhost:8080/"
        },
        "id": "eYllaowBIVuf",
        "outputId": "4372de2c-c7e2-43be-eb29-52916316485a"
      },
      "execution_count": null,
      "outputs": [
        {
          "output_type": "stream",
          "name": "stdout",
          "text": [
            "precision: 0.7544811309081795\n",
            "recall: 0.749468491493869\n",
            "f1: 0.7487758679643308\n",
            "accuracy: 0.7490147783251232\n",
            "Confusion matrix: \n",
            "[[ 917  274  179]\n",
            " [ 160 1041  137]\n",
            " [  61  208 1083]]\n"
          ]
        }
      ]
    },
    {
      "cell_type": "markdown",
      "metadata": {
        "id": "DOQYML9wcDBk"
      },
      "source": [
        "## Σύγκριση υλοποιήσεων \n",
        "\n",
        "  \n",
        "\n",
        "Στα παρακάτω κελιά πειραματιστείτε με τις δύο υλοποιήσεις (τη δική σας και την έτοιμη). Συγκρίνετε τα αποτελέσματά σας τόσο ως προς τους χρόνους εκτέλεσης αλλά και ως προς τα αποτελέσματα. Η διαφορά των αποτελεσμάτων προκύπτει από το ότι στην έτοιμη κλάση έχουν γίνει αρκετές βελτιστοποιήσεις στην λειτουργία, στον τρόπο εκπαίδευσης κ.α. με αποτέλεσμα να προκύπτουν καλύτερα αποτέλεσματα. Παρόλα αυτά στην δική μας κλάση έχουμε καλύτερο έλεγχο και έχουμε την δυνατότητα να σχεδιάσουμε πιο σύνθετες αρχιτεκτονικές καθώς να αλλάξουμε τις τιμές παραμέτρων που στην έτοιμη κλάση μπορεί να μην μας δίνεται η δυνατότητα. \n"
      ]
    },
    {
      "cell_type": "markdown",
      "source": [
        "H διαφορά των αποτελεσμάτων προκύπτει από το ότι στην έτοιμη κλάση έχουν γίνει αρκετές βελτιστοποιήσεις στην λειτουργία, στον τρόπο εκπαίδευσης κ.α. με αποτέλεσμα να προκύπτουν καλύτερα αποτέλεσματα από την δική μας όπως ήταν αναμενόμενο. Παρόλα αυτά στην δική μας κλάση έχουμε καλύτερο έλεγχο και έχουμε την δυνατότητα να σχεδιάσουμε πιο σύνθετες αρχιτεκτονικές, δίνοντας διαφορετικό μέγεθος σε κάθε επίπεδο καθώς και να αλλάξουμε τις τιμές παραμέτρων που στην έτοιμη κλάση μπορεί να μην μας δίνεται η δυνατότητα. Όταν δοκιμάσαμε ωστόσο να αυξήσουμε τις εποχές σε 1000 (με κόστος προφανώς στον χρόνο εκπαίδευσης) είδαμε ότι τόσο η δική μας υλοποίηση όσο και η έτοιμη είχαν accuracy πολύ κοντινά μεταξύ τους. Βλέπουμε όμως ότι η ακρίβεια του MLP σε όλο το test set είναι 73.2% κάτι που είναι οριακά καλύτερο τόσο από την ακρίβεια του ΚΝΝ σε όλο το test set όσο και από την ακρίβεια του Naive Bayes σε όλο το test set. Προφανώς στο MLP όσο περισσότερες εποχές χρησιμοποιούμε θα βελτιώνονται οι μετρικές μας ωστόσο αυτό θα απαιτεί περισσότερο χρόνο για training αφού θα έχουμε πολλές εποχές."
      ],
      "metadata": {
        "id": "oZ3cnjen8HbZ"
      }
    },
    {
      "cell_type": "markdown",
      "metadata": {
        "id": "gfrx064gcCr8"
      },
      "source": [
        "# Αξιολόγηση- Συμπεράσματα \n",
        "\n",
        "  \n",
        "\n",
        "Τέλος στο σημείο αυτό καλείστε να αξιολογήσετε τις διάφορες τεχνικές ταξινόμησης (KNN, Naive Bayes, MLP), τα αποτελέσματά τους, τους χρόνους εκτέλεσης, και να παραθέσετε παρατηρήσεις καθώς και οτιδήποτε σας φάνηκε ενδιαφέρον ή ιδιαίτερο. \n",
        "\n"
      ]
    },
    {
      "cell_type": "markdown",
      "source": [
        "Απάντηση/Σχολιασμός:\n",
        "\n",
        "Για απλά προβλήματα στα οποία η παραδοχή δεσμευμένης ανεξαρτησίας ισχύει (ή είναι πολύ κοντά στην πραγματικότητα) η υλοποίηση του Naive Bayes που κάναμε φαίνεται να αποδίδει πολύ καλά καθώς το accuracy του είναι αρκετά υψηλό και η ταχύτητα εκτελεσής του είναι πολύ πιο γρήγορη σε σχέση με τους 2 άλλους ταξινομητές.\n",
        "\n",
        "Από την άλλη ο αλγόριθμος KNN είναι πολύ απλός και έχει αρκετά εύκολη υλοποίηση αφού εξαρτάται μόνο από το είδος της απόστασης και το Κ. Ωστόσο για μεγάλα dataset ο χρόνος εκτέλεσης του είναι πολύ μεγάλος παρόλο που πετυχαίνει καλά αποτελέσματα (πολύ κοντά σε αυτά του naive-bayes όμως ο οποίος είναι σημαντικά πιο γρήγορος) όσον αφορά το accuracy στο δικό μας dataset. Επομένως, θα τον χρησιμοποιούσαμε σε κάποιο μικρό dataset. \n",
        "\n",
        "\n",
        "Ο Multi-Layer Perceptron είναι ένας γενικότερος ταξινομητής ο οποίος μπορεί να έχει πολύ καλά αποτελέσματα αφού εκπαιδευτεί στο dataset έχοντας την κατάλληλη δομή και χρόνο για το training. Πρόκειται βέβαια για έναν ταξινομητή που για να καταφέρει να συγκλίνει απαιτεί πολύ μεγάλο όγκο δεδομένων εκπαίδευσης. Στο δικό μας data set παρατηρούμε ότι η έτοιμη υλοποίηση του ακόμα και για 25 εποχές δίνει σε ολόκληρο test set λίγο καλύτερο accuracy και από τον Naive Bayes και από τον ΚΝΝ. Τέλος, ο MLP έχει το σημαντικό πλεονέκτημα ότι απαξ και εκπαιδευτεί (αυτό είναι που απαιτεί τον περισσότερο χρόνο) η διαδικασία της πρόβλεψης μετά είναι εύκολη αφού τα ζητούμενα βάρη κλπ θα έχουν ήδη υπολογιστεί.\n",
        "\n"
      ],
      "metadata": {
        "id": "mg-H_2wECiP5"
      }
    }
  ],
  "metadata": {
    "colab": {
      "collapsed_sections": [],
      "name": "3rd_lab_assignment_AI.ipynb",
      "provenance": []
    },
    "kernelspec": {
      "display_name": "Python 3",
      "language": "python",
      "name": "python3"
    },
    "language_info": {
      "codemirror_mode": {
        "name": "ipython",
        "version": 3
      },
      "file_extension": ".py",
      "mimetype": "text/x-python",
      "name": "python",
      "nbconvert_exporter": "python",
      "pygments_lexer": "ipython3",
      "version": "3.8.5"
    }
  },
  "nbformat": 4,
  "nbformat_minor": 0
}